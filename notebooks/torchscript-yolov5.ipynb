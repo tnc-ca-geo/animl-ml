{
 "cells": [
  {
   "cell_type": "code",
   "execution_count": 10,
   "metadata": {},
   "outputs": [],
   "source": [
    "import torch\n",
    "import numpy as np\n",
    "\n",
    "def three_channel_arr_to_shape(a, shape):\n",
    "    pad_y_left, pad_y_right, pad_x_left, pad_x_right = get_pad_lengths(a,shape)\n",
    "    return np.pad(a,((pad_y_left, pad_y_right), \n",
    "                     (pad_x_left, pad_x_right), (0,0)),\n",
    "                  mode = 'constant')\n",
    "def get_pad_lengths(a, shape):\n",
    "    y_, x_ = shape\n",
    "    y, x, c = a.shape\n",
    "    y_pad = (y_-y)\n",
    "    x_pad = (x_-x)\n",
    "    pad_y_left = y_pad//2\n",
    "    pad_y_right = y_pad//2 + y_pad%2\n",
    "    pad_x_left = x_pad//2\n",
    "    pad_x_right = x_pad//2 + x_pad%2\n",
    "    return pad_y_left, pad_y_right, pad_x_left, pad_x_right\n",
    "\n",
    "model = torch.jit.load('../models/megadetectorv5/md_v5a.0.0.torchscript')\n",
    "  # set model parameters can go in inference basehandler subclass\n",
    "model.conf = 0.10  # NMS confidence threshold\n",
    "model.iou = 0.45  # NMS IoU threshold\n",
    "model.agnostic = False  # NMS class-agnostic\n",
    "model.multi_label = False  # NMS multiple labels per box\n",
    "model.max_det = 1000  # maximum number of detections per image"
   ]
  },
  {
   "cell_type": "code",
   "execution_count": 11,
   "metadata": {},
   "outputs": [],
   "source": [
    "import os\n",
    "# TNC test images (local):\n",
    "test_images_local = []\n",
    "test_images_dir = os.path.abspath(os.path.join(os.path.abspath(''), '..', 'input'))\n",
    "local_image_files = [\n",
    "    'sample-img-empty.jpg',\n",
    "    'sample-img.jpg',\n",
    "    'sample-img-skunk-large.jpg',\n",
    "    'sample-img-rodent.jpg',\n",
    "    'sample-img-fox.jpg',\n",
    "    'sample-img-fox-2.jpg',\n",
    "]\n",
    "for fil in local_image_files:\n",
    "    test_images_local.append(os.path.join(test_images_dir, fil))"
   ]
  },
  {
   "cell_type": "markdown",
   "metadata": {},
   "source": [
    "Wall time inference for single 2048x2048 image on cpu is 5.55 seconds"
   ]
  },
  {
   "cell_type": "code",
   "execution_count": 24,
   "metadata": {},
   "outputs": [
    {
     "name": "stdout",
     "output_type": "stream",
     "text": [
      "CPU times: user 28.8 s, sys: 3.34 s, total: 32.1 s\n",
      "Wall time: 5.55 s\n"
     ]
    }
   ],
   "source": [
    "%%time\n",
    "import skimage.io as skio\n",
    "impath=test_images_local[2]\n",
    "arr = skio.imread(impath)\n",
    "padded_arr = three_channel_arr_to_shape(arr, (2048,2048))\n",
    "im = torch.from_numpy(padded_arr)\n",
    "im = torch.moveaxis(im,2,0).to(\"cpu\").float()[None,...]\n",
    "result = model(im)"
   ]
  },
  {
   "cell_type": "markdown",
   "metadata": {},
   "source": [
    "wall time inference for single 2048x2048 image on gpu is .5 seconds"
   ]
  },
  {
   "cell_type": "code",
   "execution_count": 25,
   "metadata": {},
   "outputs": [
    {
     "name": "stdout",
     "output_type": "stream",
     "text": [
      "CPU times: user 412 ms, sys: 55.9 ms, total: 468 ms\n",
      "Wall time: 468 ms\n"
     ]
    },
    {
     "data": {
      "text/plain": [
       "tensor([[9.37397e+02, 4.37510e+02, 1.34305e+03, 8.71688e+02, 9.30161e-01, 0.00000e+00]], device='cuda:0')"
      ]
     },
     "execution_count": 25,
     "metadata": {},
     "output_type": "execute_result"
    }
   ],
   "source": [
    "%%time\n",
    "import yolov5\n",
    "yolomodel = yolov5.load('../models/megadetectorv5/md_v5a.0.0.pt')\n",
    "result_lst = yolomodel(impath)\n",
    "result_lst.pred[0]"
   ]
  },
  {
   "cell_type": "code",
   "execution_count": null,
   "metadata": {},
   "outputs": [],
   "source": [
    "# import yolov5\n",
    "\n",
    "# # load pretrained model\n",
    "yolomodel = yolov5.load('../models/megadetectorv5/md_v5a.0.0.pt')\n",
    "# test_results = []\n",
    "# for im in test_images_local:\n",
    "#     result_lst = model(im)\n",
    "#     test_results.append(result_lst)\n",
    "#     result_lst.show()\n",
    "#     result_lst.save(save_dir='results/')"
   ]
  },
  {
   "cell_type": "markdown",
   "metadata": {},
   "source": [
    "torchscript all ims doesn't work"
   ]
  },
  {
   "cell_type": "code",
   "execution_count": 4,
   "metadata": {
    "tags": []
   },
   "outputs": [],
   "source": [
    "# import skimage.io as skio\n",
    "# test_results = []\n",
    "# for im in test_images_local:\n",
    "#     im = torch.from_numpy(skio.imread(im))\n",
    "#     result_lst = model(im)\n",
    "#     test_results.append(result_lst)\n",
    "#     result_lst.show()\n",
    "#     result_lst.save(save_dir='results/')"
   ]
  },
  {
   "cell_type": "code",
   "execution_count": 8,
   "metadata": {},
   "outputs": [],
   "source": []
  },
  {
   "cell_type": "code",
   "execution_count": null,
   "metadata": {},
   "outputs": [],
   "source": [
    "# predictions = result_lst.pred[0]\n",
    "# boxes = predictions[:, :4] # x1, y1, x2, y2\n",
    "# scores = predictions[:, 4]\n",
    "# categories = predictions[:, 5]"
   ]
  },
  {
   "cell_type": "code",
   "execution_count": 24,
   "metadata": {},
   "outputs": [],
   "source": [
    "# test_results[3].show()"
   ]
  },
  {
   "cell_type": "markdown",
   "metadata": {},
   "source": [
    "### exporting the model for inference"
   ]
  },
  {
   "cell_type": "markdown",
   "metadata": {},
   "source": [
    "clone the yolov5 repo (from [this commit](https://github.com/ultralytics/yolov5/blob/6dd6aea0866ba9115d38e2989f59cf1039b3c9d2/export.py) if master doesn't work). then:"
   ]
  },
  {
   "cell_type": "code",
   "execution_count": null,
   "metadata": {},
   "outputs": [],
   "source": [
    "# !python export.py --weights ../animl-ml/models/megadetectorv5/md_v5a.0.0.pt --img 2500 --batch 1"
   ]
  },
  {
   "cell_type": "code",
   "execution_count": null,
   "metadata": {},
   "outputs": [],
   "source": []
  },
  {
   "cell_type": "code",
   "execution_count": null,
   "metadata": {},
   "outputs": [],
   "source": [
    "# https://sagemaker-examples.readthedocs.io/en/latest/advanced_functionality/pytorch_extending_our_containers/pytorch_extending_our_containers.html#When-should-I-extend-a-SageMaker-container?"
   ]
  }
 ],
 "metadata": {
  "interpreter": {
   "hash": "f6842b0dd326cf6d5fadc2749907529d24dd9503c7e6290183b48a4093d0f793"
  },
  "kernelspec": {
   "display_name": "Python 3.8.12 ('base')",
   "language": "python",
   "name": "python3"
  },
  "language_info": {
   "codemirror_mode": {
    "name": "ipython",
    "version": 3
   },
   "file_extension": ".py",
   "mimetype": "text/x-python",
   "name": "python",
   "nbconvert_exporter": "python",
   "pygments_lexer": "ipython3",
   "version": "3.8.12"
  }
 },
 "nbformat": 4,
 "nbformat_minor": 4
}
