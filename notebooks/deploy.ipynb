{
 "cells": [
  {
   "cell_type": "markdown",
   "metadata": {},
   "source": [
    "# Deploy a TensorFlow SavedModel model trained elsewhere to Amazon SageMaker\n",
    "\n",
    "A lot of the steps below are taken from [this blog post](https://aws.amazon.com/blogs/machine-learning/deploy-trained-keras-or-tensorflow-models-using-amazon-sagemaker/) which explains how to take advantage of Amazon SageMaker deployment capabilities, such as selecting the type and number of instances, performing A/B testing, and Auto Scaling. Auto Scaling clusters are spread across multiple Availability Zones to deliver high performance and high availability.\n",
    "\n",
    "In this notebook we'll be deploying Microsoft's Megadetector model, saved in SavedModel for TF Serving format, which can be downloaded [here](https://github.com/microsoft/CameraTraps/blob/master/megadetector.md#downloading-the-models). The blog post listed above also demonstrates how to deploy Keras models (JSON and weights hdf5) format to Sagemaker, but that is out of the scope of this notebook.\n",
    "\n",
    "For more on training the model on SageMaker and deploying, refer to https://github.com/awslabs/amazon-sagemaker-examples/blob/master/sagemaker-python-sdk/tensorflow_distributed_mnist/tensorflow_distributed_mnist.ipynb"
   ]
  },
  {
   "cell_type": "markdown",
   "metadata": {},
   "source": [
    "### Step 1. Set up\n",
    "\n",
    "If you're already reading this in a Sagemaker Notebook instance, just execute the code block below to get the Sagemaker execution role.\n",
    "\n",
    "If not, and you need to set up the Sagemaker Notebook, in the AWS Management Console go to the Amazon SageMaker console. Choose Notebook Instances, and create a new notebook instance. Associate it with the animl-ml git repo (https://github.com/tnc-ca-geo/animl-ml), and set the kernel to conda_tensorflow_p36.\n",
    "\n",
    "The ```get_execution_role``` function retrieves the AWS Identity and Access Management (IAM) role you created at the time of creating your notebook instance."
   ]
  },
  {
   "cell_type": "code",
   "execution_count": 101,
   "metadata": {},
   "outputs": [],
   "source": [
    "import boto3, re\n",
    "from sagemaker import get_execution_role\n",
    "\n",
    "role = get_execution_role()"
   ]
  },
  {
   "cell_type": "markdown",
   "metadata": {},
   "source": [
    "### Step 2. Convert TensorFlow model to a SageMaker readable format\n",
    "\n",
    "Download the megadetector model, unzip it, and rename the .pb file to ```saved_model.pb```. Note - you may have already done this if you ran the ```get_models.sh``` script locally.\n",
    "\n",
    "Create an export directory structure in the jupyter environment (```animl-ml/notebooks/export/Servo/1```), and upload the contents of the downloaded model there, including the empty ```variables``` directory. Create a code directory in the export folder (```animl-ml/notebooks/export/code```), and **copy** the contents of ```animl-ml/code```  (```inference.py``` and ```requirements.txt``` files) into it. ```inference.py``` is a pre/post processing script, and dependencies in ```requirements.txt``` get installed in the endpoint container when it gets initialized. More on that and examples [here](https://github.com/aws/sagemaker-tensorflow-serving-container#prepost-processing).\n",
    "\n",
    "The export directory structure should look like this:\n",
    "\n",
    "\n",
    "```\n",
    "notebook\n",
    "     ├─ deploy.ipynb\n",
    "     ├─ export\n",
    "           └─ Servo\n",
    "                 └─ 1\n",
    "                       └─ saved_model.pb\n",
    "                       └─ variables\n",
    "           └─ code\n",
    "                 └─ inference.py\n",
    "                 └─ requirements.txt\n",
    "```"
   ]
  },
  {
   "cell_type": "code",
   "execution_count": null,
   "metadata": {},
   "outputs": [],
   "source": [
    "!mkdir export"
   ]
  },
  {
   "cell_type": "code",
   "execution_count": null,
   "metadata": {},
   "outputs": [],
   "source": [
    "!mkdir export/Servo"
   ]
  },
  {
   "cell_type": "code",
   "execution_count": null,
   "metadata": {},
   "outputs": [],
   "source": [
    "!mkdir export/Servo/1"
   ]
  },
  {
   "cell_type": "code",
   "execution_count": null,
   "metadata": {},
   "outputs": [],
   "source": [
    "!mkdir export/Servo/1/variables"
   ]
  },
  {
   "cell_type": "code",
   "execution_count": null,
   "metadata": {},
   "outputs": [],
   "source": [
    "!mkdir export/code"
   ]
  },
  {
   "cell_type": "markdown",
   "metadata": {},
   "source": [
    "####  Tar the entire directory and upload to S3\n",
    "Yeeehaw now we're read to zip it all up..."
   ]
  },
  {
   "cell_type": "code",
   "execution_count": 102,
   "metadata": {},
   "outputs": [],
   "source": [
    "import tarfile\n",
    "with tarfile.open('model.tar.gz', mode='w:gz') as archive:\n",
    "    archive.add('export', recursive=True)"
   ]
  },
  {
   "cell_type": "code",
   "execution_count": 103,
   "metadata": {},
   "outputs": [],
   "source": [
    "import sagemaker\n",
    "\n",
    "sagemaker_session = sagemaker.Session()\n",
    "inputs = sagemaker_session.upload_data(path='model.tar.gz', key_prefix='model')"
   ]
  },
  {
   "cell_type": "markdown",
   "metadata": {},
   "source": [
    "### Step 3. Deploy the trained model\n",
    "\n",
    "There are [two ways to deploy models to sagemaker](https://docs.aws.amazon.com/sagemaker/latest/dg/ex1-deploy-model.html), using the AWS Sagemaker Python SDK (what we use below), or using the AWS SDK for Python (Boto 3). Boto 3 offers more lower level configuration controls. Documentation on using the Sagemaker Python SDK for deployment can be found [here](https://sagemaker.readthedocs.io/en/stable/using_tf.html#deploy-to-a-sagemaker-endpoint). The ```model.deploy()``` function returns a predictor that you can use to test inference on right away.\n",
    "\n",
    "TODO: \n",
    "- look into using Elastic Inference (https://docs.aws.amazon.com/sagemaker/latest/dg/ei.html) for low-cost fast inference without using a GPU instance\n",
    "\n",
    "NOTES: Ignore the warning about python 3 and do not set the py_version argument"
   ]
  },
  {
   "cell_type": "code",
   "execution_count": 104,
   "metadata": {},
   "outputs": [],
   "source": [
    "from sagemaker.tensorflow.serving import Model\n",
    "sagemaker_model = Model(model_data = 's3://' + sagemaker_session.default_bucket() + '/model/model.tar.gz',\n",
    "                          role = role,\n",
    "                          framework_version = '1.12',\n",
    "                          entry_point = 'inference.py',\n",
    "                          source_dir='export/code'\n",
    "                       )"
   ]
  },
  {
   "cell_type": "code",
   "execution_count": 105,
   "metadata": {},
   "outputs": [
    {
     "name": "stdout",
     "output_type": "stream",
     "text": [
      "-----------!CPU times: user 18.5 s, sys: 2.03 s, total: 20.5 s\n",
      "Wall time: 5min 51s\n"
     ]
    }
   ],
   "source": [
    "%%time\n",
    "predictor = sagemaker_model.deploy(initial_instance_count=1,\n",
    "                                   instance_type='ml.m4.xlarge',\n",
    "                                  )"
   ]
  },
  {
   "cell_type": "markdown",
   "metadata": {},
   "source": [
    "### Step 4. Invoke the endpoint\n",
    "\n",
    "Grab the newly created endpoint name from the Amazon Sagemaker Console (https://us-west-1.console.aws.amazon.com/sagemaker/home?region=us-west-1#/endpoints) and plug it in below:"
   ]
  },
  {
   "cell_type": "code",
   "execution_count": 106,
   "metadata": {},
   "outputs": [],
   "source": [
    "endpoint_name = 'sagemaker-tensorflow-serving-2020-03-27-03-18-29-899'"
   ]
  },
  {
   "cell_type": "markdown",
   "metadata": {},
   "source": [
    "#### Create a predictor from the endpoint\n",
    "This is only necessary if you didn't just deploy an endpoint and create a predictor in the step above."
   ]
  },
  {
   "cell_type": "code",
   "execution_count": null,
   "metadata": {},
   "outputs": [],
   "source": [
    "from sagemaker.tensorflow.model import TensorFlowModel\n",
    "predictor = sagemaker.tensorflow.model.TensorFlowPredictor(endpoint_name, sagemaker_session)"
   ]
  },
  {
   "cell_type": "markdown",
   "metadata": {},
   "source": [
    "#### Invoke the SageMaker endpoint using a boto3 client\n",
    "Replace ```TEST_IMG``` with an image object key that you know is in the ```s3://animl-images``` bucket, and then let it rip."
   ]
  },
  {
   "cell_type": "code",
   "execution_count": 107,
   "metadata": {},
   "outputs": [
    {
     "name": "stdout",
     "output_type": "stream",
     "text": [
      "b'{\\n    \"predictions\": [\\n        {\\n            \"detection_scores\": [0.0829493, 0.0828338, 0.0691808, 0.0447764, 0.0343378, 0.0319628, 0.028849, 0.0258857, 0.0161797, 0.0150743, 0.0138039, 0.0136431, 0.0131869, 0.0107709, 0.0106035, 0.00831678, 0.00705173, 0.00585848, 0.00576879, 0.00550011, 0.0052371, 0.00415652, 0.00409158, 0.00395912, 0.00304632, 0.00253824, 0.00251295, 0.00194808, 0.00192088, 0.00161899, 0.00153268, 0.00142408, 0.00141167, 0.00105104, 0.000982431, 0.000929584, 0.000844995, 0.000684777, 0.000607615, 0.000567728, 0.000552413, 0.00054706, 0.000537264, 0.000452302, 0.000437536, 0.000420866, 0.000407217, 0.000380945, 0.000380073, 0.000367915, 0.000332465, 0.000310611, 0.000287382, 0.000281439, 0.000271631, 0.000255717, 0.000242343, 0.000240265, 0.000228235, 0.000220861, 0.000206343, 0.000184694, 0.000177503, 0.000173855, 0.000166879, 0.00013705, 0.000130971, 0.000129523, 0.00012885, 0.000128738, 0.000118365, 0.000116286, 0.000112218, 0.000110522, 0.000109341, 0.000103426, 9.06718e-05, 8.52485e-05, 8.38828e-05, 8.18644e-05, 7.73718e-05, 7.73552e-05, 7.21194e-05, 6.37996e-05, 6.19301e-05, 5.68672e-05, 4.78468e-05, 4.58758e-05, 4.08757e-05, 4.02097e-05, 3.67875e-05, 3.15914e-05, 3.15623e-05, 3.14367e-05, 3.0565e-05, 3.03338e-05, 2.94077e-05, 2.84548e-05, 2.73021e-05, 2.65397e-05],\\n            \"detection_classes\": [1.0, 1.0, 1.0, 1.0, 1.0, 1.0, 1.0, 1.0, 1.0, 1.0, 1.0, 1.0, 1.0, 1.0, 1.0, 1.0, 2.0, 1.0, 1.0, 2.0, 1.0, 1.0, 1.0, 1.0, 1.0, 1.0, 1.0, 1.0, 1.0, 1.0, 1.0, 1.0, 1.0, 2.0, 1.0, 1.0, 1.0, 1.0, 1.0, 2.0, 1.0, 1.0, 1.0, 1.0, 1.0, 1.0, 1.0, 1.0, 2.0, 1.0, 1.0, 1.0, 2.0, 2.0, 1.0, 2.0, 1.0, 1.0, 2.0, 1.0, 2.0, 1.0, 1.0, 2.0, 2.0, 1.0, 1.0, 1.0, 1.0, 1.0, 1.0, 1.0, 1.0, 2.0, 1.0, 2.0, 1.0, 2.0, 1.0, 2.0, 1.0, 2.0, 1.0, 2.0, 2.0, 2.0, 2.0, 2.0, 2.0, 2.0, 1.0, 2.0, 2.0, 1.0, 1.0, 2.0, 1.0, 2.0, 1.0, 2.0],\\n            \"num_detections\": 100.0,\\n            \"detection_boxes\": [[0.615138, 0.355486, 0.698051, 0.472206], [0.596941, 0.419155, 0.648594, 0.480365], [0.657369, 0.4895, 0.740637, 0.604217], [0.024862, 0.0, 0.989077, 0.463219], [0.599419, 0.421612, 0.637642, 0.470229], [0.0, 0.0, 0.9835, 0.20356], [0.596478, 0.417711, 0.672163, 0.487845], [0.602301, 0.400506, 0.694469, 0.481256], [0.655729, 0.471871, 0.725884, 0.57818], [0.668084, 0.526344, 0.749937, 0.607565], [0.68444, 0.632545, 0.780615, 0.745438], [0.571134, 0.0, 0.970933, 0.0382475], [0.600877, 0.36774, 0.671016, 0.471348], [0.556965, 0.0, 0.987134, 0.517276], [0.600257, 0.419556, 0.634133, 0.452203], [0.755661, 0.89335, 0.890021, 0.999718], [0.0, 0.0, 1.0, 0.202093], [0.00822187, 0.00989391, 0.0886767, 0.199555], [0.569469, 0.0, 0.971153, 0.0762541], [0.0, 0.0, 1.0, 0.456674], [0.00305376, 0.00587537, 0.0424865, 0.062925], [0.461492, 0.00376152, 0.97069, 0.107716], [0.752769, 0.874867, 0.945416, 1.0], [0.0340259, 0.0258296, 0.941109, 0.127262], [0.178716, 0.0115765, 0.953527, 0.103245], [0.614776, 0.355713, 0.670555, 0.443606], [0.616964, 0.00519595, 0.897927, 0.0318588], [0.0265597, 0.0, 0.804409, 0.30724], [0.00656723, 0.0516616, 0.0553911, 0.18413], [0.00529988, 0.00284708, 0.0566002, 0.0707421], [0.693656, 0.043189, 0.983333, 0.921041], [0.00691817, 0.0362157, 0.0360592, 0.15359], [0.15444, 0.0, 0.96878, 0.749956], [0.0081281, 0.00927505, 0.0909384, 0.198091], [0.00491093, 0.010762, 0.049897, 0.141401], [0.601556, 0.412415, 0.64703, 0.452414], [0.619989, 0.00738416, 0.712847, 0.0381679], [0.627031, 0.904126, 0.902406, 0.997405], [0.592149, 0.426297, 0.622165, 0.467639], [0.0, 0.00308915, 1.0, 0.139711], [0.0128418, 0.0924135, 0.0627201, 0.190417], [0.497894, 0.00266865, 0.859385, 0.0883727], [0.605621, 0.704451, 0.962822, 1.0], [0.597046, 0.384754, 0.647458, 0.45622], [0.00825412, 0.0237671, 0.0458669, 0.0681122], [0.00191643, 0.00479015, 0.127194, 0.0784126], [0.0787458, 0.0110481, 0.729864, 0.157724], [0.0139781, 0.00546904, 0.072029, 0.0658284], [0.458848, 0.0, 1.0, 0.0969842], [0.702325, 0.566693, 0.970541, 0.973535], [0.467983, 0.777026, 0.942339, 1.0], [0.615494, 0.37477, 0.663044, 0.429252], [0.551596, 0.0, 1.0, 0.519241], [0.00655719, 0.00140417, 0.843708, 0.313537], [0.60034, 0.399894, 0.634222, 0.445129], [0.00456558, 0.0213098, 0.893337, 0.116145], [0.907894, 0.925929, 0.985294, 1.0], [0.642434, 0.00507896, 0.793006, 0.0368861], [0.532636, 0.00199042, 1.0, 0.0566766], [0.934722, 0.928935, 0.993453, 1.0], [0.544784, 0.0, 0.999839, 0.0376666], [0.857551, 0.899975, 0.987855, 1.0], [0.90105, 0.882833, 0.991802, 1.0], [0.00719795, 0.0363145, 0.0368122, 0.153742], [0.00656277, 0.0545896, 0.0579677, 0.183959], [0.611901, 0.00763831, 0.720065, 0.0513096], [0.699058, 0.0125178, 0.844013, 0.0490697], [0.0640645, 0.74525, 0.899504, 0.999674], [0.606923, 0.38705, 0.654662, 0.438556], [0.770334, 0.921999, 0.909173, 0.998195], [0.952311, 0.94155, 0.995008, 0.997577], [0.710723, 0.00126424, 0.984402, 0.0358109], [0.0194939, 0.0, 0.661726, 0.723959], [0.00248247, 0.00728616, 0.0432536, 0.0645131], [0.0113668, 0.0, 0.437207, 0.426081], [0.00450175, 0.0105753, 0.0502775, 0.14525], [0.67893, 0.936438, 0.775688, 0.99256], [0.652433, 0.485741, 0.743511, 0.607643], [0.866617, 0.933086, 0.978574, 0.997088], [0.733172, 0.887119, 0.946109, 1.0], [0.104631, 0.0, 0.793136, 0.079647], [0.678166, 0.6254, 0.787309, 0.749798], [0.634415, 0.0100767, 0.792453, 0.052881], [0.593332, 0.421156, 0.676687, 0.480547], [0.0527379, 0.0121028, 0.772471, 0.160979], [0.611262, 0.349834, 0.697086, 0.47726], [0.638385, 0.465351, 0.759779, 0.618699], [0.00490339, 0.00328287, 0.0744945, 0.0675789], [0.660944, 0.525697, 0.752832, 0.60873], [0.00469327, 0.00484705, 0.123967, 0.0773991], [0.419417, 0.926662, 0.710389, 0.995209], [0.591747, 0.00526436, 0.930562, 0.031399], [0.0115291, 0.0922849, 0.0649868, 0.189575], [0.209292, 0.881324, 0.861992, 0.994616], [0.0390958, 0.00907316, 0.354331, 0.117633], [0.66374, 0.0452507, 1.0, 0.959373], [0.604489, 0.258333, 0.962286, 0.900072], [0.59239, 0.400257, 0.698688, 0.483776], [0.00588688, 0.947869, 0.0318771, 0.993999], [0.648342, 0.492529, 0.731933, 0.575063]]\\n        }\\n    ]\\n}'\n"
     ]
    }
   ],
   "source": [
    "import json\n",
    "import boto3\n",
    "\n",
    "BUCKET = \"animl-images\"\n",
    "TEST_IMG = \"0fe0cecc40c04d916dfde886d7a5a9c7.jpg\"\n",
    "# RENDER_THRESHOLD = 0.8\n",
    "# MODEL_NAME = \"saved_model_megadetector_v3_tf19\"\n",
    "\n",
    "client = boto3.client('runtime.sagemaker')\n",
    "\n",
    "response = client.invoke_endpoint(\n",
    "    EndpointName=endpoint_name,\n",
    "    ContentType='application/json', \n",
    "    Body=json.dumps(TEST_IMG)\n",
    ")\n",
    "\n",
    "response_body = response['Body']\n",
    "print(response_body.read())"
   ]
  },
  {
   "cell_type": "code",
   "execution_count": null,
   "metadata": {},
   "outputs": [],
   "source": []
  }
 ],
 "metadata": {
  "kernelspec": {
   "display_name": "conda_tensorflow_p36",
   "language": "python",
   "name": "conda_tensorflow_p36"
  },
  "language_info": {
   "codemirror_mode": {
    "name": "ipython",
    "version": 3
   },
   "file_extension": ".py",
   "mimetype": "text/x-python",
   "name": "python",
   "nbconvert_exporter": "python",
   "pygments_lexer": "ipython3",
   "version": "3.6.6"
  }
 },
 "nbformat": 4,
 "nbformat_minor": 4
}
