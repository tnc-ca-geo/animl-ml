{
 "metadata": {
  "language_info": {
   "codemirror_mode": {
    "name": "ipython",
    "version": 3
   },
   "file_extension": ".py",
   "mimetype": "text/x-python",
   "name": "python",
   "nbconvert_exporter": "python",
   "pygments_lexer": "ipython3",
   "version": "3.9.0-final"
  },
  "orig_nbformat": 2,
  "kernelspec": {
   "name": "python3",
   "display_name": "Python 3.9.0 64-bit ('env')",
   "metadata": {
    "interpreter": {
     "hash": "54cc96a45fc3b47501632754ced5d8b28ece8c410f9e09f1bbcf5ca92f79b635"
    }
   }
  }
 },
 "nbformat": 4,
 "nbformat_minor": 2,
 "cells": [
  {
   "source": [
    "## Microsoft-hosted Megadetector API Test\n",
    "\n",
    "Adapted from http://dolphinvm.westus2.cloudapp.azure.com/ai4e/notebooks/cameratrap-sync-api-demo.html#Camera-trap-detection-API-demo"
   ],
   "cell_type": "markdown",
   "metadata": {}
  },
  {
   "source": [
    "### Setup\n",
    "#### 1) Make sure venv is running and requirements.txt are installed (see README.md)\n",
    "#### 2) Load API key from .env file\n",
    "Make sure you have a .env file somewhere in the project directory with the API key set to enironmental variable \"MEGADETECTOR_API_KEY\""
   ],
   "cell_type": "markdown",
   "metadata": {}
  },
  {
   "cell_type": "code",
   "execution_count": null,
   "metadata": {},
   "outputs": [],
   "source": [
    "%load_ext dotenv\n",
    "%dotenv\n",
    "\n",
    "import os\n",
    "MEGADETECTOR_API_KEY = os.getenv('MEGADETECTOR_API_KEY')"
   ]
  },
  {
   "cell_type": "code",
   "execution_count": null,
   "metadata": {},
   "outputs": [],
   "source": [
    "import requests\n",
    "import json\n",
    "import matplotlib.pyplot as plt\n",
    "\n",
    "from io import BytesIO\n",
    "from PIL import Image,ImageDraw\n",
    "from azure.storage.blob import ContainerClient,BlobClient\n",
    "\n",
    "%autosave 0\n",
    "\n",
    "demo_image_account_name = 'cameratrapblobs'\n",
    "demo_image_container_name = 'cameratrapblobcontainer'\n",
    "demo_image_account_url = 'https://' + demo_image_account_name + '.blob.core.windows.net/'\n",
    "demo_image_blob_root = demo_image_account_url + demo_image_container_name\n",
    "\n",
    "demo_image_container_client = ContainerClient(account_url=demo_image_account_url, \n",
    "                                         container_name=demo_image_container_name,\n",
    "                                         credential=None)\n",
    "\n",
    "api_subscription_key = MEGADETECTOR_API_KEY\n",
    "\n",
    "api_base_url = 'https://aiforearth.azure-api.net/api/v1/camera-trap/sync/'\n",
    "api_detection_url = api_base_url + '/detect'\n",
    "api_version_url = api_base_url + '/detector_model_version'\n",
    "\n",
    "min_confidence_to_retrieve = 0.5\n",
    "min_confidence_to_display = 0.8"
   ]
  },
  {
   "source": [
    "### API health/version check¶"
   ],
   "cell_type": "markdown",
   "metadata": {}
  },
  {
   "cell_type": "code",
   "execution_count": null,
   "metadata": {},
   "outputs": [],
   "source": [
    "headers = { 'Ocp-Apim-Subscription-Key': api_subscription_key }\n",
    "version_info = requests.get(api_version_url,headers=headers)\n",
    "version_info.text"
   ]
  },
  {
   "source": [
    "### Functions"
   ],
   "cell_type": "markdown",
   "metadata": {}
  },
  {
   "cell_type": "code",
   "execution_count": null,
   "metadata": {},
   "outputs": [],
   "source": [
    "def get_images():\n",
    "    \n",
    "    images_data = []\n",
    "    generator = demo_image_container_client.list_blobs()\n",
    "\n",
    "    for blob in generator:                  \n",
    "        blob_client = BlobClient(demo_image_account_url,demo_image_container_name,blob.name)\n",
    "        download_stream = blob_client.download_blob()\n",
    "        images_data.append({'name' : blob.name, 'data': download_stream.readall()})\n",
    "        # print('Read {} bytes'.format(len(images_data[-1]['data'])))\n",
    "    \n",
    "    return images_data   \n",
    "\n",
    "\n",
    "def draw_bounding_box_on_image(image,ymin,xmin,ymax,xmax):\n",
    "\n",
    "    color = 'red'\n",
    "    draw = ImageDraw.Draw(image)\n",
    "    im_width, im_height = image.size\n",
    "    (left, right, top, bottom) = (xmin * im_width, xmax * im_width,\n",
    "                                  ymin * im_height, ymax * im_height)\n",
    "    draw.line([(left, top), (left, bottom), (right, bottom),\n",
    "               (right, top), (left, top)], width=4, fill=color)\n",
    "    \n",
    "    \n",
    "def draw_raw_images():  \n",
    "    \n",
    "    fig = plt.figure(figsize=(20,35))\n",
    "\n",
    "    num_images = len(images)\n",
    "    \n",
    "    columns = 2\n",
    "\n",
    "    rows = (num_images // 2) + (num_images % 2)\n",
    "    \n",
    "    for i in range(len(images)):\n",
    "        \n",
    "        image = Image.open(BytesIO(images[i]['data']))        \n",
    "        axis = plt.subplot(rows,columns, i + 1)     \n",
    "        axis.imshow(image)\n",
    "        plt.axis('off')\n",
    "        plt.axis('tight')\n",
    "            \n",
    "    plt.show()\n",
    "\n",
    "def response_to_json(r):\n",
    "    \n",
    "    from requests_toolbelt.multipart import decoder\n",
    "    res = decoder.MultipartDecoder.from_response(r)\n",
    "    results = {}\n",
    "    images = {}\n",
    "\n",
    "    for part in res.parts:\n",
    "        \n",
    "        # 'part' is a BodyPart object with b'Content-Type', and b'Content-Disposition';\n",
    "        # the latter includes 'name' and 'filename' info\n",
    "\n",
    "        headers = {}\n",
    "        for k, v in part.headers.items():\n",
    "            headers[k.decode(part.encoding)] = v.decode(part.encoding)\n",
    "\n",
    "        if headers.get('Content-Type', None) == 'image/jpeg':\n",
    "            c = headers.get('Content-Disposition')\n",
    "            image_name = c.split('name=\"')[1].split('\"')[0]\n",
    "            image = Image.open(io.BytesIO(part.content))\n",
    "            images[image_name] = image\n",
    "        elif headers.get('Content-Type', None) == 'application/json':\n",
    "            content_disposition = headers.get('Content-Disposition', '')\n",
    "            if 'detection_result' in content_disposition:\n",
    "                results['detection_result'] = json.loads(part.content.decode())\n",
    "            elif 'classification_result' in content_disposition:\n",
    "                results['classification_result'] = json.loads(part.content.decode())\n",
    "                \n",
    "    # ...for each part\n",
    "    \n",
    "    return results,images\n",
    "\n",
    "def call_api(image_info):\n",
    "    \n",
    "    image_bytes = image_info['data']\n",
    "    image_name = image_info['name']\n",
    "    \n",
    "    assert isinstance(image_bytes,bytes)\n",
    "    file = BytesIO(image_bytes)\n",
    "    files = {}\n",
    "    files[image_name] = (image_name, file, 'application/octet-stream')\n",
    "    \n",
    "    headers = { 'Ocp-Apim-Subscription-Key':api_subscription_key }\n",
    "    params = {\n",
    "        'confidence': min_confidence_to_retrieve,\n",
    "        'render': False\n",
    "    }\n",
    "    \n",
    "    r = requests.post(api_detection_url, params=params, headers=headers, files=files)\n",
    "    \n",
    "    return r"
   ]
  },
  {
   "source": [
    "### Retrieve sample images"
   ],
   "cell_type": "markdown",
   "metadata": {}
  },
  {
   "cell_type": "code",
   "execution_count": null,
   "metadata": {},
   "outputs": [],
   "source": [
    "images = get_images()\n",
    "draw_raw_images()"
   ]
  },
  {
   "source": [
    "### Select an image"
   ],
   "cell_type": "markdown",
   "metadata": {}
  },
  {
   "cell_type": "code",
   "execution_count": null,
   "metadata": {},
   "outputs": [],
   "source": [
    "i_image = 1"
   ]
  },
  {
   "source": [
    "### Call API"
   ],
   "cell_type": "markdown",
   "metadata": {}
  },
  {
   "cell_type": "code",
   "execution_count": null,
   "metadata": {},
   "outputs": [],
   "source": [
    "r = call_api(images[i_image])\n",
    "print(r)\n",
    "results,_ = response_to_json(r)\n",
    "image_name = images[i_image]['name']\n",
    "detections = results['detection_result'][image_name]\n",
    "print('Found {} detection(s)'.format(len(detections)))\n",
    "\n",
    "# Each detection is:\n",
    "#\n",
    "# ymin,xmin,ymax,xmax,confidence,class\n",
    "# \n",
    "# Image coordinates are normalized, with the origin in the upper-left\n",
    "\n",
    "# print(detections)"
   ]
  },
  {
   "source": [
    "### Show results"
   ],
   "cell_type": "markdown",
   "metadata": {}
  },
  {
   "cell_type": "code",
   "execution_count": null,
   "metadata": {},
   "outputs": [],
   "source": [
    "from PIL import Image\n",
    "image = Image.open(BytesIO(images[i_image]['data']))\n",
    "\n",
    "for detection in detections:\n",
    "    box = detection[0:4]\n",
    "    confidence = detection[4]\n",
    "    clss = detection[5]\n",
    "    if (confidence >= min_confidence_to_display):\n",
    "        draw_bounding_box_on_image(image, box[0], box[1], box[2], box[3])\n",
    "image"
   ]
  },
  {
   "cell_type": "code",
   "execution_count": null,
   "metadata": {},
   "outputs": [],
   "source": []
  }
 ]
}