{
 "cells": [
  {
   "cell_type": "markdown",
   "metadata": {},
   "source": [
    "# Deploy a TensorFlow SavedModel model trained elsewhere to Amazon SageMaker\n",
    "\n",
    "A lot of the steps below are taken from [this blog post](https://aws.amazon.com/blogs/machine-learning/deploy-trained-keras-or-tensorflow-models-using-amazon-sagemaker/) which explains how to take advantage of Amazon SageMaker deployment capabilities, such as selecting the type and number of instances, performing A/B testing, and Auto Scaling. Auto Scaling clusters are spread across multiple Availability Zones to deliver high performance and high availability.\n",
    "\n",
    "In this notebook we'll be deploying Microsoft's Megadetector model, saved in SavedModel for TF Serving format, which can be downloaded [here](https://github.com/microsoft/CameraTraps/blob/master/megadetector.md#downloading-the-models). The blog post listed above also demonstrates how to deploy Keras models (JSON and weights hdf5) format to Sagemaker, but that is out of the scope of this notebook.\n",
    "\n",
    "For more on training the model on SageMaker and deploying, refer to https://github.com/awslabs/amazon-sagemaker-examples/blob/master/sagemaker-python-sdk/tensorflow_distributed_mnist/tensorflow_distributed_mnist.ipynb"
   ]
  },
  {
   "cell_type": "markdown",
   "metadata": {},
   "source": [
    "### Step 1. Set up\n",
    "\n",
    "If you're already reading this in a Sagemaker Notebook instance, just execute the code block below to get the Sagemaker execution role.\n",
    "\n",
    "If not, and you need to set up the Sagemaker Notebook, in the AWS Management Console go to the Amazon SageMaker console. Choose Notebook Instances, and create a new notebook instance. Associate it with the animl-ml git repo (https://github.com/tnc-ca-geo/animl-ml), and set the kernel to conda_tensorflow_p36.\n",
    "\n",
    "The ```get_execution_role``` function retrieves the AWS Identity and Access Management (IAM) role you created at the time of creating your notebook instance."
   ]
  },
  {
   "cell_type": "code",
   "execution_count": 1,
   "metadata": {},
   "outputs": [],
   "source": [
    "import boto3, re\n",
    "from sagemaker import get_execution_role\n",
    "\n",
    "role = get_execution_role()"
   ]
  },
  {
   "cell_type": "markdown",
   "metadata": {},
   "source": [
    "### Step 2. Convert TensorFlow model to a SageMaker readable format\n",
    "\n",
    "Download the megadetector model, unzip it, and make sure the .pb file is named ```saved_model.pb```. Note - you may have already done this if you ran the ```get_models.sh``` script locally.\n",
    "\n",
    "Create an export directory structure in the jupyter environment (```animl-ml/notebooks/export/Servo/1```), and upload the contents of the downloaded model there. Create a code directory in the export folder (```animl-ml/notebooks/export/code```), and **copy** the contents of ```animl-ml/code```  (```inference.py``` and ```requirements.txt``` files) into it. ```inference.py``` is a pre/post processing script, and dependencies in ```requirements.txt``` get installed in the endpoint container when it is initialized. More on that and examples [here](https://github.com/aws/sagemaker-tensorflow-serving-container#prepost-processing).\n",
    "\n",
    "The export directory structure should look like this:\n",
    "\n",
    "\n",
    "```\n",
    "notebook\n",
    "     ├─ deploy.ipynb\n",
    "     ├─ export\n",
    "           └─ Servo\n",
    "                 └─ 1\n",
    "                       └─ saved_model.pb\n",
    "                       └─ variables\n",
    "           └─ code\n",
    "                 └─ inference.py\n",
    "                 └─ requirements.txt\n",
    "```"
   ]
  },
  {
   "cell_type": "code",
   "execution_count": 2,
   "metadata": {},
   "outputs": [],
   "source": [
    "!mkdir export"
   ]
  },
  {
   "cell_type": "code",
   "execution_count": 3,
   "metadata": {},
   "outputs": [],
   "source": [
    "!mkdir export/Servo"
   ]
  },
  {
   "cell_type": "code",
   "execution_count": 4,
   "metadata": {},
   "outputs": [],
   "source": [
    "!mkdir export/Servo/1"
   ]
  },
  {
   "cell_type": "code",
   "execution_count": 5,
   "metadata": {},
   "outputs": [],
   "source": [
    "!mkdir export/Servo/1/variables"
   ]
  },
  {
   "cell_type": "code",
   "execution_count": 7,
   "metadata": {},
   "outputs": [],
   "source": [
    "!cp -r ../models/megadetector/code export/"
   ]
  },
  {
   "cell_type": "markdown",
   "metadata": {},
   "source": [
    "####  Tar the entire directory and upload to S3\n",
    "Yeeehaw now we're read to zip it all up and upload it to s3..."
   ]
  },
  {
   "cell_type": "code",
   "execution_count": 36,
   "metadata": {},
   "outputs": [],
   "source": [
    "import tarfile\n",
    "with tarfile.open('model.tar.gz', mode='w:gz') as archive:\n",
    "    archive.add('export', recursive=True)"
   ]
  },
  {
   "cell_type": "code",
   "execution_count": 37,
   "metadata": {},
   "outputs": [],
   "source": [
    "import sagemaker\n",
    "\n",
    "sagemaker_session = sagemaker.Session()\n",
    "inputs = sagemaker_session.upload_data(path='model.tar.gz', key_prefix='model')"
   ]
  },
  {
   "cell_type": "markdown",
   "metadata": {},
   "source": [
    "### Step 3. Deploy the trained model\n",
    "\n",
    "There are [two ways to deploy models to sagemaker](https://docs.aws.amazon.com/sagemaker/latest/dg/ex1-deploy-model.html), using the AWS Sagemaker Python SDK (what we use below), or using the AWS SDK for Python (Boto 3). Boto 3 offers more lower level configuration controls. Documentation on using the Sagemaker Python SDK for deployment can be found [here](https://sagemaker.readthedocs.io/en/stable/using_tf.html#deploy-to-a-sagemaker-endpoint). The ```model.deploy()``` function returns a predictor that you can use to test inference on right away.\n",
    "\n",
    "TODO: \n",
    "- look into using Elastic Inference (https://docs.aws.amazon.com/sagemaker/latest/dg/ei.html) for low-cost fast inference without using a GPU instance\n",
    "\n",
    "NOTES: Ignore the warning about python 3 and do not set the py_version argument"
   ]
  },
  {
   "cell_type": "code",
   "execution_count": 44,
   "metadata": {},
   "outputs": [
    {
     "name": "stderr",
     "output_type": "stream",
     "text": [
      "Parameter image will be renamed to image_uri in SageMaker Python SDK v2.\n"
     ]
    }
   ],
   "source": [
    "from sagemaker.tensorflow.serving import Model\n",
    "sagemaker_model = Model(model_data = 's3://' + sagemaker_session.default_bucket() + '/model/model.tar.gz',\n",
    "                          role = role,\n",
    "                          framework_version = '1.13',\n",
    "                          entry_point = 'inference.py',\n",
    "                          source_dir='export/code'\n",
    "                       )"
   ]
  },
  {
   "cell_type": "code",
   "execution_count": 45,
   "metadata": {},
   "outputs": [
    {
     "name": "stderr",
     "output_type": "stream",
     "text": [
      "'create_image_uri' will be deprecated in favor of 'ImageURIProvider' class in SageMaker Python SDK v2.\n"
     ]
    },
    {
     "name": "stdout",
     "output_type": "stream",
     "text": [
      "-------------!CPU times: user 15.9 s, sys: 2.48 s, total: 18.4 s\n",
      "Wall time: 6min 48s\n"
     ]
    }
   ],
   "source": [
    "%%time\n",
    "predictor = sagemaker_model.deploy(initial_instance_count=1,\n",
    "                                   instance_type='ml.m4.xlarge',\n",
    "                                  )"
   ]
  },
  {
   "cell_type": "markdown",
   "metadata": {},
   "source": [
    "### Step 4. Invoke the endpoint\n",
    "\n",
    "Grab the newly created endpoint name from the Amazon Sagemaker Console (https://us-west-1.console.aws.amazon.com/sagemaker/home?region=us-west-1#/endpoints) and plug it in below:"
   ]
  },
  {
   "cell_type": "code",
   "execution_count": 46,
   "metadata": {},
   "outputs": [],
   "source": [
    "# this endpoitn works (TensorFlow 1.12)\n",
    "# endpoint_name = 'sagemaker-tensorflow-serving-2020-11-08-21-35-31-540'\n",
    "\n",
    "# this is TensorFlow 1.13\n",
    "endpoint_name = 'tensorflow-inference-2020-11-08-22-51-57-429'"
   ]
  },
  {
   "cell_type": "markdown",
   "metadata": {},
   "source": [
    "#### Create a predictor from the endpoint\n",
    "This is only necessary if you didn't just deploy an endpoint and create a predictor in the step above."
   ]
  },
  {
   "cell_type": "code",
   "execution_count": 13,
   "metadata": {},
   "outputs": [],
   "source": [
    "from sagemaker.tensorflow.model import TensorFlowModel\n",
    "predictor = sagemaker.tensorflow.model.TensorFlowPredictor(endpoint_name, sagemaker_session)"
   ]
  },
  {
   "cell_type": "markdown",
   "metadata": {},
   "source": [
    "#### Invoke the SageMaker endpoint using a boto3 client"
   ]
  },
  {
   "cell_type": "code",
   "execution_count": 47,
   "metadata": {},
   "outputs": [
    {
     "name": "stdout",
     "output_type": "stream",
     "text": [
      "b'{\\n    \"predictions\": [\\n        {\\n            \"detection_classes\": [1.0, 1.0, 1.0, 1.0, 1.0, 1.0, 1.0, 1.0, 1.0, 1.0, 1.0, 1.0, 1.0, 1.0, 1.0, 1.0, 1.0, 1.0, 1.0, 1.0, 3.0, 1.0, 1.0, 1.0, 1.0, 1.0, 2.0, 1.0, 1.0, 1.0, 1.0, 1.0, 1.0, 1.0, 1.0, 1.0, 1.0, 2.0, 1.0, 1.0, 1.0, 1.0, 1.0, 1.0, 1.0, 1.0, 2.0, 1.0, 1.0, 1.0, 1.0, 1.0, 3.0, 2.0, 1.0, 1.0, 1.0, 1.0, 1.0, 1.0, 1.0, 1.0, 1.0, 1.0, 3.0, 1.0, 1.0, 1.0, 1.0, 1.0, 1.0, 1.0, 1.0, 1.0, 1.0, 3.0, 1.0, 2.0, 1.0, 1.0, 1.0, 1.0, 1.0, 1.0, 1.0, 1.0, 1.0, 1.0, 1.0, 1.0, 1.0, 1.0, 2.0, 1.0, 2.0, 1.0, 1.0, 1.0, 1.0, 1.0],\\n            \"num_detections\": 100.0,\\n            \"detection_boxes\": [[0.476009, 0.27858, 0.552951, 0.409597], [0.445225, 0.241919, 0.549637, 0.410256], [0.00768748, 0.0, 0.306559, 0.885349], [0.0226511, 0.0389927, 0.59295, 0.970974], [0.46062, 0.2563, 0.539868, 0.377574], [0.50386, 0.188327, 0.5396, 0.257556], [0.442832, 0.252802, 0.521171, 0.336108], [0.494258, 0.1934, 0.541704, 0.309821], [0.450192, 0.255344, 0.502189, 0.380052], [0.494257, 0.27105, 0.534201, 0.30869], [0.485082, 0.190496, 0.541861, 0.377889], [0.465802, 0.274559, 0.512729, 0.401293], [0.635518, 0.94311, 0.722218, 0.99873], [0.497757, 0.278277, 0.537328, 0.319824], [0.412931, 0.898938, 0.496558, 0.997206], [0.0198518, 0.911773, 0.127269, 0.997553], [0.442554, 0.252374, 0.488604, 0.335547], [0.446029, 0.255293, 0.480039, 0.297772], [0.493525, 0.283222, 0.538324, 0.333045], [0.449549, 0.255284, 0.487578, 0.310549], [0.0104343, 0.0, 0.313326, 0.885445], [0.473788, 0.31074, 0.523243, 0.409126], [0.487545, 0.23916, 0.540459, 0.333736], [0.0, 0.0, 0.890568, 0.834022], [0.0231888, 0.0, 0.176646, 0.850782], [0.0231421, 0.319149, 0.729158, 0.95925], [0.00944482, 0.0, 0.296029, 0.871319], [0.470657, 0.301644, 0.502676, 0.40485], [0.000193481, 0.00348244, 0.529695, 0.690561], [0.453045, 0.257036, 0.497821, 0.301207], [0.0159673, 0.881803, 0.295745, 0.993807], [0.450934, 0.25285, 0.483448, 0.288943], [0.00393169, 0.343637, 0.303909, 0.943602], [0.510382, 0.327903, 0.551529, 0.382305], [0.476764, 0.332482, 0.512002, 0.408641], [0.484322, 0.347121, 0.548661, 0.404164], [0.017218, 0.81892, 0.0515578, 0.861616], [0.47583, 0.277205, 0.555159, 0.413245], [0.0200324, 0.819235, 0.0467284, 0.847212], [0.0262453, 0.929942, 0.115202, 0.989598], [0.500116, 0.338678, 0.549508, 0.395615], [0.0346887, 0.872589, 0.4579, 0.991183], [0.498169, 0.296888, 0.544178, 0.350475], [0.0174756, 0.9046, 0.0343965, 0.989929], [0.980228, 0.962602, 0.999273, 0.994338], [0.0199309, 0.812903, 0.0337324, 0.853715], [0.0211184, 0.0251139, 0.577113, 0.999132], [0.0142216, 0.900195, 0.0888589, 0.998607], [0.0266095, 0.807937, 0.0642605, 0.85254], [0.0184778, 0.803055, 0.0318442, 0.850164], [0.0181709, 0.903106, 0.0460741, 0.995184], [0.0195284, 0.660403, 0.377445, 0.97328], [0.00945992, 0.0344415, 0.594364, 0.999405], [0.0154519, 0.912903, 0.127141, 0.99724], [0.326678, 0.966576, 0.386039, 0.992289], [0.545364, 0.952272, 0.609384, 0.998521], [0.0433834, 0.733415, 0.535554, 0.984679], [0.508086, 0.318466, 0.545456, 0.363366], [0.482639, 0.356039, 0.530003, 0.406198], [0.0191359, 0.893279, 0.0337674, 0.94289], [0.47623, 0.265446, 0.521138, 0.306599], [0.540273, 0.964031, 0.610139, 0.99206], [0.00634932, 0.00832487, 0.344436, 0.473364], [0.00944, 0.902779, 0.0452954, 0.953952], [0.01993, 0.0154973, 0.21176, 0.852753], [0.0186386, 0.873885, 0.0331406, 0.926642], [0.973537, 0.955518, 0.999654, 0.997283], [0.0201354, 0.898464, 0.0462739, 0.944872], [0.555502, 0.948742, 0.63737, 0.998653], [0.336851, 0.956967, 0.384857, 0.997644], [0.0117456, 0.00481352, 0.0635049, 0.128724], [0.0208184, 0.905234, 0.0473926, 0.963882], [0.0324552, 0.00394763, 0.291763, 0.164777], [0.0192994, 0.0331181, 0.0349149, 0.121123], [0.0882608, 0.730793, 0.900244, 0.993365], [0.462094, 0.270809, 0.558109, 0.420021], [0.0184001, 0.878983, 0.0457158, 0.931107], [0.016475, 0.0, 0.52238, 0.684571], [0.0330214, 0.952226, 0.131109, 0.99099], [0.481255, 0.329102, 0.525864, 0.385855], [0.486617, 0.372423, 0.531285, 0.409154], [0.966102, 0.947191, 0.997237, 0.998965], [0.526457, 0.956772, 0.582315, 0.995355], [0.872555, 0.000939331, 0.986285, 0.0867495], [0.496894, 0.9572, 0.549238, 0.995062], [0.0123077, 0.0127339, 0.0463351, 0.122115], [0.0253504, 0.9212, 0.0684946, 0.995752], [0.0167944, 0.0123546, 0.0367727, 0.0676351], [0.399182, 0.946741, 0.472154, 0.991808], [0.953194, 0.960723, 0.988717, 0.995006], [0.0254989, 0.919871, 0.049537, 0.995585], [0.403854, 0.964668, 0.474384, 0.990516], [0.0135317, 0.0, 0.850345, 0.860813], [0.0188126, 0.789225, 0.030184, 0.834259], [0.637366, 0.945857, 0.729056, 0.996216], [0.947732, 0.952538, 0.990996, 0.999976], [0.00839857, 0.927572, 0.061537, 0.991191], [0.0221055, 0.00463104, 0.878781, 0.330668], [0.415381, 0.934262, 0.485522, 0.996114], [0.672383, 0.872362, 0.988374, 0.994276]],\\n            \"detection_scores\": [0.995929, 0.0150704, 0.0116213, 0.00566755, 0.00512609, 0.00333349, 0.00123101, 0.00106119, 0.00102441, 0.000950711, 0.000932476, 0.000897975, 0.000897428, 0.00088743, 0.00073034, 0.000711638, 0.000667388, 0.000662789, 0.000645207, 0.000621573, 0.00053677, 0.000496051, 0.000395419, 0.000385842, 0.000374489, 0.00034816, 0.000284703, 0.000281365, 0.000235231, 0.000198977, 0.000184818, 0.000157947, 0.000144226, 0.000131412, 0.000124447, 0.00011159, 9.49882e-05, 9.34089e-05, 8.94117e-05, 8.70215e-05, 8.64458e-05, 8.11549e-05, 7.69031e-05, 7.49778e-05, 6.72361e-05, 6.17654e-05, 5.83578e-05, 5.57573e-05, 5.38502e-05, 5.24968e-05, 5.24819e-05, 4.79617e-05, 4.44314e-05, 4.39958e-05, 4.32123e-05, 3.70771e-05, 3.67691e-05, 3.67425e-05, 3.60851e-05, 3.47726e-05, 2.8127e-05, 2.79364e-05, 2.63402e-05, 2.45339e-05, 2.2312e-05, 2.22027e-05, 2.1658e-05, 2.11501e-05, 2.00403e-05, 1.95005e-05, 1.81807e-05, 1.72036e-05, 1.71296e-05, 1.61377e-05, 1.58226e-05, 1.48985e-05, 1.46073e-05, 1.41197e-05, 1.31629e-05, 1.21346e-05, 1.19993e-05, 1.13213e-05, 1.13034e-05, 1.1289e-05, 1.07058e-05, 1.06779e-05, 1.05848e-05, 1.03803e-05, 1.03319e-05, 9.17963e-06, 9.01278e-06, 8.97087e-06, 8.75473e-06, 8.6754e-06, 8.34403e-06, 8.2846e-06, 7.7989e-06, 7.50228e-06, 7.33408e-06, 7.2347e-06]\\n        }\\n    ]\\n}'\n"
     ]
    }
   ],
   "source": [
    "import json\n",
    "import boto3\n",
    "\n",
    "TEST_IMG = 'input/sample-img.jpg'\n",
    "# RENDER_THRESHOLD = 0.8\n",
    "# MODEL_NAME = \"megadetector\"\n",
    "\n",
    "client = boto3.client('runtime.sagemaker')\n",
    "\n",
    "with open(args.img_uri, 'rb') as fd:\n",
    "    response = client.invoke_endpoint(\n",
    "        EndpointName=endpoint_name,\n",
    "        ContentType='application/x-image', \n",
    "        Body=fd\n",
    "    )\n",
    "\n",
    "    response_body = response['Body']\n",
    "    print(response_body.read())"
   ]
  },
  {
   "cell_type": "code",
   "execution_count": null,
   "metadata": {},
   "outputs": [],
   "source": []
  },
  {
   "cell_type": "code",
   "execution_count": null,
   "metadata": {},
   "outputs": [],
   "source": []
  }
 ],
 "metadata": {
  "kernelspec": {
   "display_name": "conda_tensorflow_p36",
   "language": "python",
   "name": "conda_tensorflow_p36"
  },
  "language_info": {
   "codemirror_mode": {
    "name": "ipython",
    "version": 3
   },
   "file_extension": ".py",
   "mimetype": "text/x-python",
   "name": "python",
   "nbconvert_exporter": "python",
   "pygments_lexer": "ipython3",
   "version": "3.6.10"
  }
 },
 "nbformat": 4,
 "nbformat_minor": 4
}