{
 "cells": [
  {
   "cell_type": "code",
   "execution_count": null,
   "metadata": {},
   "outputs": [],
   "source": [
    "import json\n",
    "import os\n",
    "\n",
    "%matplotlib ipympl\n",
    "import matplotlib\n",
    "# matplotlib.use('GTK3Agg')\n",
    "import matplotlib.pyplot as plt\n",
    "import matplotlib.image as mpimg\n",
    "import matplotlib.figure\n",
    "import pandas as pd\n",
    "import seaborn as sns\n",
    "import numpy as np\n",
    "from tqdm import tqdm\n",
    "import random\n",
    "from PIL import Image\n",
    "\n",
    "from classification.train_utils import load_splits, plot_img_grid\n",
    "\n",
    "random.seed(10)\n"
   ]
  },
  {
   "cell_type": "markdown",
   "metadata": {},
   "source": [
    "### Load data"
   ]
  },
  {
   "cell_type": "code",
   "execution_count": null,
   "metadata": {},
   "outputs": [],
   "source": [
    "model = 'resnet-18'\n",
    "experiment = 'subsample-rats' #'baseline'\n",
    "split = 'val'\n",
    "runs_root = '/home/natty/invasive-animal-detection/runs/'\n",
    "processed_data_root = '/home/natty/invasive-animal-detection/data/processed/'\n",
    "raw_data_root = '/home/natty/invasive-animal-detection/data/raw/images'\n",
    "\n",
    "# load results file produced by predict.py\n",
    "results_path = os.path.join(runs_root, model, experiment, 'predictions', f'{split}_results.json')\n",
    "with open(results_path, 'r') as f:\n",
    "    res = json.load(f)\n",
    "\n",
    "# load COCO for Cameratraps file (for split we're evaluating)\n",
    "cct_path = os.path.join(processed_data_root, experiment, f'{split}_cct.json')\n",
    "with open(cct_path, 'r') as f:\n",
    "    cct = json.load(open(cct_path, 'r'))\n",
    "\n",
    "categories = cct['categories']\n",
    "label_to_idx = { label['name']: idx for idx, label in enumerate(categories) }\n",
    "idx_to_label = { idx: label['name'] for idx, label in enumerate(categories) }\n"
   ]
  },
  {
   "cell_type": "code",
   "execution_count": null,
   "metadata": {},
   "outputs": [],
   "source": [
    "categories"
   ]
  },
  {
   "cell_type": "markdown",
   "metadata": {},
   "source": [
    "### Functions"
   ]
  },
  {
   "cell_type": "code",
   "execution_count": null,
   "metadata": {},
   "outputs": [],
   "source": [
    "def plot_img_grid(paths, ncols=8, size=224):\n",
    "    \"\"\"Plot a grid of square images.\n",
    "\n",
    "    Args:\n",
    "        paths: list of str, paths to image crops\n",
    "        ncols: int, number of columns for output figure\n",
    "        size: float, size (in inches) of each row/column\n",
    "\n",
    "    Returns: matplotlib Figure\n",
    "    \"\"\"\n",
    "    DPI = 113\n",
    "    nrows = int(np.ceil(len(paths) / ncols))\n",
    "    fig = matplotlib.figure.Figure(figsize=(ncols * size / DPI, nrows * size / DPI))\n",
    "    axs = fig.subplots(nrows, ncols, squeeze=False)\n",
    "    for i, path in tqdm(enumerate(paths)):\n",
    "        r, c = i // ncols, i % ncols\n",
    "        ax = axs[r, c]\n",
    "        img = mpimg.imread(path)\n",
    "        ax.imshow(img)\n",
    "    for r in range(nrows):\n",
    "        for c in range(ncols):\n",
    "            axs[r, c].set_axis_off()\n",
    "            axs[r, c].set_aspect('equal')\n",
    "    fig.subplots_adjust(wspace=0, hspace=0)\n",
    "    return fig\n",
    "\n",
    "def print_top_two_labels(imgs):\n",
    "    for sample_idx, sample in enumerate(imgs):\n",
    "        scores_w_labels = [{'score': '%.3f'%(score), 'label': idx_to_label[idx]} for idx, score in enumerate(sample['scores'])]\n",
    "        scores_w_labels.sort(key=lambda x: x['score'], reverse=True) # highest scores first \n",
    "        runner_up = scores_w_labels[1] # second-highest score\n",
    "        print(f'image {sample_idx}: top score: {scores_w_labels[0][\"label\"]}, {scores_w_labels[0][\"score\"]} -- runner up: {runner_up[\"label\"]}, {runner_up[\"score\"]}')"
   ]
  },
  {
   "cell_type": "code",
   "execution_count": null,
   "metadata": {},
   "outputs": [],
   "source": [
    "for key, val in res.items():\n",
    "    print(f'key: {key} - length: {len(val)} - first item - {val[0]}')"
   ]
  },
  {
   "cell_type": "code",
   "execution_count": null,
   "metadata": {},
   "outputs": [],
   "source": [
    "positives = []\n",
    "negatives = []\n",
    "\n",
    "for idx, pred in enumerate(res['pred_labels']):\n",
    "    result_data = {\n",
    "        'pred': pred,\n",
    "        'actual': res['true_labels'][idx],\n",
    "        'logits': res['logits'][idx],\n",
    "        'scores': res['scores'][idx],\n",
    "        'filepath': res['filepaths'][idx]\n",
    "    }\n",
    "    if result_data['actual'] == result_data['pred']:\n",
    "        positives.append(result_data)\n",
    "    elif result_data['actual'] != result_data['pred']:\n",
    "        negatives.append(result_data)"
   ]
  },
  {
   "cell_type": "code",
   "execution_count": null,
   "metadata": {},
   "outputs": [],
   "source": [
    "print(f'No. of positives (correct classifications): {len(positives)}')\n",
    "print(f'No. of negatvies (missed classifications): {len(negatives)}')\n",
    "print(f'Overall accuracy: {len(positives)/ (len(negatives) + len(positives))}')"
   ]
  },
  {
   "cell_type": "code",
   "execution_count": null,
   "metadata": {},
   "outputs": [],
   "source": [
    "# show rats that were mislabeled as rodents\n",
    "rat_label_idx = label_to_idx['rat']\n",
    "rodent_label_idx = label_to_idx['rodent']\n",
    "rodent_false_positives = list(filter(lambda x: (x['pred'] == rodent_label_idx and x['actual'] == rat_label_idx), negatives))\n",
    "\n",
    "rodent_false_positives\n",
    "# rat_positives.sort(key=lambda x: x['scores'][label_idx])\n",
    "\n",
    "print('Rats that were mislabeled as rodents')\n",
    "paths = [fn['filepath'] for fn in rodent_false_positives]\n",
    "plot_img_grid(paths, 8, 224)\n",
    "\n",
    "# # Display images using the filepaths key\n",
    "# def image_generator(entries): # use this for lazyloading (load images one at a time, instead of all at once, freeing up memory)\n",
    "#     for idx, entry in enumerate(entries):\n",
    "#         img = Image.open(entry['filepath'])\n",
    "#         yield idx, img\n",
    "# plt.figure(figsize=(35, 20))\n",
    "# for idx, img in image_generator(rodent_false_positives):\n",
    "#     plt.subplot(5, 5, idx + 1)\n",
    "#     plt.imshow(img, aspect='auto')\n",
    "#     plt.title(idx)\n",
    "#     plt.axis('off')\n",
    "# plt.tight_layout()\n",
    "# plt.show()"
   ]
  },
  {
   "cell_type": "code",
   "execution_count": null,
   "metadata": {},
   "outputs": [],
   "source": [
    "# show least confident true-positives for a given class\n",
    "category = 'bird'\n",
    "label_idx = label_to_idx[category]\n",
    "bird_positives = list(filter(lambda x: x['actual'] == label_idx, positives))\n",
    "bird_positives.sort(key=lambda x: x['scores'][label_idx])\n",
    "\n",
    "print('Positive Birds w/ lowest bird scores')\n",
    "paths = [fn['filepath'] for fn in bird_positives[0:24]]\n",
    "plot_img_grid(paths, 8, 224)"
   ]
  },
  {
   "cell_type": "code",
   "execution_count": null,
   "metadata": {},
   "outputs": [],
   "source": [
    "print_top_two_labels(bird_positives[0:24])"
   ]
  },
  {
   "cell_type": "code",
   "execution_count": null,
   "metadata": {},
   "outputs": [],
   "source": [
    "# show all of LEAST confident true-positives for a given class\n",
    "category = 'scrub jay'\n",
    "label_idx = label_to_idx[category]\n",
    "sj_positives = list(filter(lambda x: x['actual'] == label_idx, positives))\n",
    "sj_positives.sort(key=lambda x: x['scores'][label_idx])\n",
    "\n",
    "print('Positive scrub jays w/ lowest scrub jay scores')\n",
    "paths = [fn['filepath'] for fn in sj_positives[0:24]]\n",
    "plot_img_grid(paths, 8, 224)"
   ]
  },
  {
   "cell_type": "code",
   "execution_count": null,
   "metadata": {},
   "outputs": [],
   "source": [
    "print_top_two_labels(sj_positives[0:24])"
   ]
  },
  {
   "cell_type": "code",
   "execution_count": null,
   "metadata": {},
   "outputs": [],
   "source": [
    "# show all of MOST confident true-positives for a given class\n",
    "category = 'scrub jay'\n",
    "label_idx = label_to_idx[category]\n",
    "sj_true_positives = list(filter(lambda x: x['actual'] == label_idx, positives))\n",
    "sj_true_positives.sort(key=lambda x: x['scores'][label_idx], reverse=True)\n",
    "\n",
    "print('Positive scrub jays w/ lowest scrub jay scores')\n",
    "paths = [fn['filepath'] for fn in sj_true_positives[0:24]]\n",
    "plot_img_grid(paths, 8, 224)"
   ]
  },
  {
   "cell_type": "code",
   "execution_count": null,
   "metadata": {},
   "outputs": [],
   "source": [
    "# show high confience rat false positives\n",
    "category = 'rat'\n",
    "label_idx = label_to_idx[category]\n",
    "rat_false_positives = list(filter(lambda x: x['pred'] == label_idx, negatives))\n",
    "rat_false_positives.sort(\n",
    "    key=lambda x: x['scores'][label_idx],\n",
    "    reverse=True # most confient first\n",
    "  )\n",
    "\n",
    "print('Rat false positives')\n",
    "paths = [fn['filepath'] for fn in rat_false_positives[0:100]]\n",
    "plot_img_grid(paths, 8, 224)"
   ]
  },
  {
   "cell_type": "code",
   "execution_count": null,
   "metadata": {},
   "outputs": [],
   "source": [
    "rat_false_positives_micronesia = []\n",
    "for rat_fp in rat_false_positives:\n",
    "    if 'micronesia' in rat_fp['filepath']:\n",
    "        rat_false_positives_micronesia.append(rat_fp)\n",
    "\n",
    "for fp in rat_false_positives_micronesia:\n",
    "    print(fp['filepath'])"
   ]
  },
  {
   "cell_type": "code",
   "execution_count": null,
   "metadata": {},
   "outputs": [],
   "source": [
    "print_top_two_labels(rat_false_positives[0:24])"
   ]
  },
  {
   "cell_type": "code",
   "execution_count": null,
   "metadata": {},
   "outputs": [],
   "source": [
    "# Print most confident rat predictions that weren't rats"
   ]
  },
  {
   "cell_type": "markdown",
   "metadata": {},
   "source": [
    "### Exploring suspicious lack of rodent/rat mislabeling"
   ]
  },
  {
   "cell_type": "code",
   "execution_count": null,
   "metadata": {},
   "outputs": [],
   "source": [
    "cct_path_train = os.path.join(processed_data_root, experiment, f'train_cct.json')\n",
    "cct_train = json.load(open(cct_path_train, 'r'))\n",
    "\n",
    "cct_path_val = os.path.join(processed_data_root, experiment, f'val_cct.json')\n",
    "cct_val = json.load(open(cct_path_val, 'r'))\n",
    "\n",
    "label_to_id = {cat['name']: cat['id'] for cat in cct_train['categories']}"
   ]
  },
  {
   "cell_type": "code",
   "execution_count": null,
   "metadata": {},
   "outputs": [],
   "source": [
    "image_id_to_image_map_train = {img['id']: img for img in cct_train['images']}\n",
    "image_id_to_image_map_val = {img['id']: img for img in cct_val['images']}"
   ]
  },
  {
   "cell_type": "code",
   "execution_count": null,
   "metadata": {},
   "outputs": [],
   "source": [
    "\n",
    "rat_id = label_to_id['rat']\n",
    "rats_train = list(filter(lambda x: x['category_id'] == rat_id, cct_train['annotations']))\n",
    "print(f'No. of rats in training: {len(rats_train)}')\n",
    "\n",
    "rats_val = list(filter(lambda x: x['category_id'] == rat_id, cct_val['annotations']))\n",
    "print(f'No. of rats in val: {len(rats_val)}')"
   ]
  },
  {
   "cell_type": "markdown",
   "metadata": {},
   "source": [
    "## Rats from train"
   ]
  },
  {
   "cell_type": "code",
   "execution_count": null,
   "metadata": {},
   "outputs": [],
   "source": [
    "paths = []\n",
    "for r in random.sample(rats_train, 500):\n",
    "    path = os.path.join(processed_data_root, experiment, 'crops', image_id_to_image_map_train[r['image_id']]['file_name'])\n",
    "    paths.append(path)\n",
    "plot_img_grid(paths, 8, 224)"
   ]
  },
  {
   "cell_type": "markdown",
   "metadata": {},
   "source": [
    "## Rats from val"
   ]
  },
  {
   "cell_type": "code",
   "execution_count": null,
   "metadata": {},
   "outputs": [],
   "source": [
    "paths = []\n",
    "for r in random.sample(rats_val, 500):\n",
    "    path = os.path.join(processed_data_root, experiment, 'crops', image_id_to_image_map_val[r['image_id']]['file_name'])\n",
    "    paths.append(path)\n",
    "plot_img_grid(paths, 8, 224)"
   ]
  },
  {
   "cell_type": "code",
   "execution_count": null,
   "metadata": {},
   "outputs": [],
   "source": [
    "anno_record = rats_train[11000]\n",
    "print(anno_record)\n",
    "image_record = image_id_to_image_map_train[anno_record['image_id']]\n",
    "print(image_record)\n",
    "path = os.path.join(raw_data_root, 'images', image_record['orig_file_name'])\n",
    "print(path)"
   ]
  },
  {
   "cell_type": "code",
   "execution_count": null,
   "metadata": {},
   "outputs": [],
   "source": [
    "# find all rat detections at 'location': 'micronesia/cam06'\n",
    "rats_at_micronesia_cam06 = []\n",
    "for r_anno in rats_train:\n",
    "    # find location\n",
    "    img = image_id_to_image_map_train[r_anno['image_id']]\n",
    "    if img['location'] == 'micronesia/cam06':\n",
    "        rats_at_micronesia_cam06.append(r_anno)"
   ]
  },
  {
   "cell_type": "code",
   "execution_count": null,
   "metadata": {},
   "outputs": [],
   "source": [
    "len(rats_at_micronesia_cam06)"
   ]
  },
  {
   "cell_type": "markdown",
   "metadata": {},
   "source": [
    "# Rodents"
   ]
  },
  {
   "cell_type": "code",
   "execution_count": null,
   "metadata": {},
   "outputs": [],
   "source": [
    "rodent_id = label_to_id['rodent']\n",
    "rodents_train = list(filter(lambda x: x['category_id'] == rodent_id, cct_train['annotations']))\n",
    "print(f'No. of rodents in train: {len(rodents_train)}')\n",
    "\n",
    "rodents_val = list(filter(lambda x: x['category_id'] == rodent_id, cct_val['annotations']))\n",
    "print(f'No. of rodents in val: {len(rodents_val)}')"
   ]
  },
  {
   "cell_type": "markdown",
   "metadata": {},
   "source": [
    "## Rodents from training split"
   ]
  },
  {
   "cell_type": "code",
   "execution_count": null,
   "metadata": {},
   "outputs": [],
   "source": [
    "paths = []\n",
    "for c in random.sample(rodents_train, 500):\n",
    "    path = os.path.join(processed_data_root, experiment, 'crops', image_id_to_image_map_train[c['image_id']]['file_name'])\n",
    "    paths.append(path)\n",
    "plot_img_grid(paths)"
   ]
  },
  {
   "cell_type": "markdown",
   "metadata": {},
   "source": [
    "## Rodents from val"
   ]
  },
  {
   "cell_type": "markdown",
   "metadata": {},
   "source": [
    "## Rodents from val"
   ]
  },
  {
   "cell_type": "code",
   "execution_count": null,
   "metadata": {},
   "outputs": [],
   "source": [
    "paths = []\n",
    "for c in random.sample(rodents_val, 500):\n",
    "    path = os.path.join(processed_data_root, experiment, 'crops', image_id_to_image_map_val[c['image_id']]['file_name'])\n",
    "    paths.append(path)\n",
    "plot_img_grid(paths)"
   ]
  },
  {
   "cell_type": "code",
   "execution_count": null,
   "metadata": {},
   "outputs": [],
   "source": [
    "cat_id = label_to_id['cat']\n",
    "cats_train = list(filter(lambda x: x['category_id'] == cat_id, cct_train['annotations']))\n",
    "len(cats_train)"
   ]
  },
  {
   "cell_type": "code",
   "execution_count": null,
   "metadata": {},
   "outputs": [],
   "source": [
    "paths = []\n",
    "for c in cats_train[:500]:\n",
    "    path = os.path.join(processed_data_root, 'crops', image_id_to_image_map[c['image_id']]['file_name'])\n",
    "    paths.append(path)\n",
    "plot_img_grid(paths, 8, 224)"
   ]
  },
  {
   "cell_type": "code",
   "execution_count": null,
   "metadata": {},
   "outputs": [],
   "source": [
    "# find locations\n",
    "rat_locs_train = []\n",
    "for rat in rats_train:\n",
    "    # look up image\n",
    "    img = image_id_to_image_map[rat['image_id']]\n",
    "    if img['location'] in rat_locs_train:\n",
    "        continue\n",
    "    rat_locs_train.append(img['location'])"
   ]
  },
  {
   "cell_type": "code",
   "execution_count": null,
   "metadata": {},
   "outputs": [],
   "source": [
    "rat_locs_train"
   ]
  },
  {
   "cell_type": "code",
   "execution_count": null,
   "metadata": {},
   "outputs": [],
   "source": [
    "len(rat_locs_train)"
   ]
  }
 ],
 "metadata": {
  "kernelspec": {
   "display_name": "cameratraps-classifier",
   "language": "python",
   "name": "python3"
  },
  "language_info": {
   "codemirror_mode": {
    "name": "ipython",
    "version": 3
   },
   "file_extension": ".py",
   "mimetype": "text/x-python",
   "name": "python",
   "nbconvert_exporter": "python",
   "pygments_lexer": "ipython3",
   "version": "3.9.18"
  },
  "orig_nbformat": 4
 },
 "nbformat": 4,
 "nbformat_minor": 2
}
