{
 "cells": [
  {
   "cell_type": "markdown",
   "metadata": {},
   "source": [
    "# Split final CCT into separate CCT's for each train/val/test split"
   ]
  },
  {
   "cell_type": "code",
   "execution_count": 1,
   "metadata": {},
   "outputs": [],
   "source": [
    "import json\n",
    "import os\n",
    "\n",
    "import pandas as pd\n",
    "from tqdm import tqdm"
   ]
  },
  {
   "cell_type": "code",
   "execution_count": 2,
   "metadata": {},
   "outputs": [],
   "source": [
    "experiment = 'animl'\n",
    "output_path = os.path.join(os.environ['HOME'], f'animl-ml/classification/data/processed/{experiment}')\n",
    "\n",
    "data_file = os.path.join(os.environ['HOME'], f'animl-ml/classification/data/interim/{experiment}/classification_cct.json')\n",
    "with open(data_file, 'r') as f:\n",
    "    js = json.load(f)\n",
    "\n",
    "splits_file = os.path.join(os.environ['HOME'], f'animl-ml/classification/data/interim/{experiment}/splits.json')\n",
    "with open(splits_file, 'r') as f:\n",
    "    splits = json.load(f)"
   ]
  },
  {
   "cell_type": "code",
   "execution_count": 3,
   "metadata": {},
   "outputs": [
    {
     "name": "stdout",
     "output_type": "stream",
     "text": [
      "Couldnt find location gato in any splits. All of the samples from this location may have not been present in enough locations to pass the --min-locs filter during create_classifications_dataset.py\n",
      "Couldnt find location gato in any splits. All of the samples from this location may have not been present in enough locations to pass the --min-locs filter during create_classifications_dataset.py\n",
      "Couldnt find location gato in any splits. All of the samples from this location may have not been present in enough locations to pass the --min-locs filter during create_classifications_dataset.py\n",
      "Couldnt find location gato in any splits. All of the samples from this location may have not been present in enough locations to pass the --min-locs filter during create_classifications_dataset.py\n",
      "Couldnt find location gato in any splits. All of the samples from this location may have not been present in enough locations to pass the --min-locs filter during create_classifications_dataset.py\n",
      "Couldnt find location gato in any splits. All of the samples from this location may have not been present in enough locations to pass the --min-locs filter during create_classifications_dataset.py\n",
      "Couldnt find location gato in any splits. All of the samples from this location may have not been present in enough locations to pass the --min-locs filter during create_classifications_dataset.py\n",
      "Couldnt find location gato in any splits. All of the samples from this location may have not been present in enough locations to pass the --min-locs filter during create_classifications_dataset.py\n",
      "Couldnt find location gato in any splits. All of the samples from this location may have not been present in enough locations to pass the --min-locs filter during create_classifications_dataset.py\n",
      "Couldnt find location gato in any splits. All of the samples from this location may have not been present in enough locations to pass the --min-locs filter during create_classifications_dataset.py\n",
      "Couldnt find location gato in any splits. All of the samples from this location may have not been present in enough locations to pass the --min-locs filter during create_classifications_dataset.py\n",
      "Couldnt find location gato in any splits. All of the samples from this location may have not been present in enough locations to pass the --min-locs filter during create_classifications_dataset.py\n",
      "Couldnt find location gato in any splits. All of the samples from this location may have not been present in enough locations to pass the --min-locs filter during create_classifications_dataset.py\n",
      "Couldnt find location gato in any splits. All of the samples from this location may have not been present in enough locations to pass the --min-locs filter during create_classifications_dataset.py\n",
      "Couldnt find location gato in any splits. All of the samples from this location may have not been present in enough locations to pass the --min-locs filter during create_classifications_dataset.py\n",
      "Couldnt find location gato in any splits. All of the samples from this location may have not been present in enough locations to pass the --min-locs filter during create_classifications_dataset.py\n",
      "Couldnt find location gato in any splits. All of the samples from this location may have not been present in enough locations to pass the --min-locs filter during create_classifications_dataset.py\n",
      "Couldnt find location gato in any splits. All of the samples from this location may have not been present in enough locations to pass the --min-locs filter during create_classifications_dataset.py\n",
      "Couldnt find location gato in any splits. All of the samples from this location may have not been present in enough locations to pass the --min-locs filter during create_classifications_dataset.py\n",
      "Couldnt find location gato in any splits. All of the samples from this location may have not been present in enough locations to pass the --min-locs filter during create_classifications_dataset.py\n",
      "Couldnt find location gato in any splits. All of the samples from this location may have not been present in enough locations to pass the --min-locs filter during create_classifications_dataset.py\n",
      "Couldnt find image for image_id abb403ef-7153-4007-9ca6-8942474df539\n",
      "Couldnt find image for image_id 1f1823e8-1a12-48fc-a012-3991682bed40\n",
      "Couldnt find image for image_id 5a5266a1-d4a6-4309-9b3c-e9ae0b0be732\n",
      "Couldnt find image for image_id 0a9ca0af-139c-4b57-883c-d17e3ac05781\n",
      "Couldnt find image for image_id b3b8cfb4-e007-4e3a-8b4b-dfd1842fecc4\n",
      "Couldnt find image for image_id fe706f00-fe35-4520-9227-8d036f26daba\n",
      "Couldnt find image for image_id e12231c0-0575-4dd2-83c8-e0efea07f674\n",
      "Couldnt find image for image_id 43d5510b-e686-46dd-a36e-5851ed237425\n",
      "Couldnt find image for image_id 562f00e0-7d8a-4b63-b701-fcde492bb95e\n",
      "Couldnt find image for image_id d53d8097-a92b-4ecd-b541-c44152f2adb6\n",
      "Couldnt find image for image_id 47508804-e820-460d-afda-4e2e76dac200\n",
      "Couldnt find image for image_id abed68e4-5b73-4cd1-890b-4ceb98b6a0b6\n",
      "Couldnt find image for image_id 6c075c88-ea5e-4187-a5e9-d65cddb31856\n",
      "Couldnt find image for image_id 349c0444-7ad0-4ba1-be06-5871fc5d5407\n",
      "Couldnt find image for image_id e2bd7dc1-89c5-4ae2-81c9-80615ddf4f4f\n",
      "Couldnt find image for image_id 8336648b-ec4b-4510-a82a-9597b63712fd\n",
      "Couldnt find image for image_id 3439b740-076e-4dde-b3fa-2b6c97a926b4\n",
      "Couldnt find image for image_id 37cff7d4-f778-4e94-8595-71a1f43f3a72\n",
      "Couldnt find image for image_id 24fdaa07-d451-481d-8f06-aa9af824d505\n",
      "Couldnt find image for image_id e644fdfc-9f3d-4f9a-8d04-6bd4b52df606\n",
      "Couldnt find image for image_id 9e2b5dd0-34e3-4128-9bdd-fe5c98bb6333\n",
      "CCT built, saving train as train_cct.json\n",
      "CCT built, saving val as val_cct.json\n",
      "CCT built, saving test as test_cct.json\n"
     ]
    }
   ],
   "source": [
    "imgs = {\n",
    "    'train': [],\n",
    "    'val': [],\n",
    "    'test': []\n",
    "}\n",
    "annos = {\n",
    "    'train': [],\n",
    "    'val': [],\n",
    "    'test': []\n",
    "}\n",
    "\n",
    "location_to_split = {}\n",
    "for split, loc_pairs in splits.items():\n",
    "   for [dataset, location] in loc_pairs:\n",
    "      location_to_split[location] = split\n",
    "\n",
    "image_to_split = {}\n",
    "# iterate through all images\n",
    "for img in js['images']:\n",
    "    # map img['location'] to split and append to new list\n",
    "    if img['location'] in location_to_split:\n",
    "        assigned_split = location_to_split[img['location']]\n",
    "        imgs[assigned_split].append(img)\n",
    "        image_to_split[img['id']] = assigned_split\n",
    "    else:\n",
    "        print(f'Couldnt find location {img[\"location\"]} in any splits. All of the samples from this location may have not been present in enough locations to pass the --min-locs filter during create_classifications_dataset.py')\n",
    "\n",
    "# iterate through all annotations\n",
    "for anno in js['annotations']:\n",
    "    if anno['image_id'] in image_to_split:\n",
    "        assigned_split = image_to_split[anno['image_id']]\n",
    "        annos[assigned_split].append(anno)\n",
    "    else:\n",
    "        print(f'Couldnt find image for image_id {anno[\"image_id\"]}')\n",
    "\n",
    "# save files\n",
    "for split in ['train', 'val', 'test']:\n",
    "    print(f'CCT built, saving {split} as {split}_cct.json')\n",
    "    new_cct = {\n",
    "        'images': imgs[split],\n",
    "        'annotations': annos[split],\n",
    "        'categories': js['categories'],\n",
    "        'info': js['info']\n",
    "    }\n",
    "    out_file = os.path.join(output_path, f'{split}_cct.json')\n",
    "    with open(out_file, 'w') as f:\n",
    "      json.dump(new_cct, f)"
   ]
  }
 ],
 "metadata": {
  "kernelspec": {
   "display_name": "cameratraps-classifier",
   "language": "python",
   "name": "python3"
  },
  "language_info": {
   "codemirror_mode": {
    "name": "ipython",
    "version": 3
   },
   "file_extension": ".py",
   "mimetype": "text/x-python",
   "name": "python",
   "nbconvert_exporter": "python",
   "pygments_lexer": "ipython3",
   "version": "3.7.6"
  },
  "orig_nbformat": 4
 },
 "nbformat": 4,
 "nbformat_minor": 2
}
