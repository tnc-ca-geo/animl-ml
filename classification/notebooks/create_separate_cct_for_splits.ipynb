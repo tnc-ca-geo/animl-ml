{
 "cells": [
  {
   "cell_type": "markdown",
   "metadata": {},
   "source": [
    "# Split final CCT into separate CCT's for each train/val/test split"
   ]
  },
  {
   "cell_type": "code",
   "execution_count": 1,
   "metadata": {},
   "outputs": [],
   "source": [
    "import json\n",
    "import os\n",
    "\n",
    "import pandas as pd\n",
    "from tqdm import tqdm"
   ]
  },
  {
   "cell_type": "code",
   "execution_count": 2,
   "metadata": {},
   "outputs": [],
   "source": [
    "experiment = 'animl'\n",
    "output_path = os.path.join(os.environ['HOME'], f'animl-ml/classification/data/processed/{experiment}')\n",
    "\n",
    "data_file = os.path.join(os.environ['HOME'], f'animl-ml/classification/data/interim/{experiment}/classification_cct.json')\n",
    "with open(data_file, 'r') as f:\n",
    "    js = json.load(f)\n",
    "\n",
    "splits_file = os.path.join(os.environ['HOME'], f'animl-ml/classification/data/interim/{experiment}/splits.json')\n",
    "with open(splits_file, 'r') as f:\n",
    "    splits = json.load(f)"
   ]
  },
  {
   "cell_type": "code",
   "execution_count": 3,
   "metadata": {},
   "outputs": [
    {
     "name": "stdout",
     "output_type": "stream",
     "text": [
      "CCT built, saving train as train_cct.json\n",
      "CCT built, saving val as val_cct.json\n",
      "CCT built, saving test as test_cct.json\n"
     ]
    }
   ],
   "source": [
    "imgs = {\n",
    "    'train': [],\n",
    "    'val': [],\n",
    "    'test': []\n",
    "}\n",
    "annos = {\n",
    "    'train': [],\n",
    "    'val': [],\n",
    "    'test': []\n",
    "}\n",
    "\n",
    "location_to_split = {}\n",
    "for split, loc_pairs in splits.items():\n",
    "   for [dataset, location] in loc_pairs:\n",
    "      location_to_split[location] = split\n",
    "\n",
    "image_to_split = {}\n",
    "# iterate through all images\n",
    "for img in js['images']:\n",
    "    # map img['location'] to split and append to new list\n",
    "    if img['location'] in location_to_split:\n",
    "        assigned_split = location_to_split[img['location']]\n",
    "        imgs[assigned_split].append(img)\n",
    "        image_to_split[img['id']] = assigned_split\n",
    "    else:\n",
    "        print(f'Couldnt find location {img[\"location\"]} in any splits. All of the samples from this location may have not been present in enough locations to pass the --min-locs filter during create_classifications_dataset.py')\n",
    "\n",
    "# iterate through all annotations\n",
    "for anno in js['annotations']:\n",
    "    if anno['image_id'] in image_to_split:\n",
    "        assigned_split = image_to_split[anno['image_id']]\n",
    "        annos[assigned_split].append(anno)\n",
    "    else:\n",
    "        print(f'Couldnt find image for image_id {anno[\"image_id\"]}')\n",
    "\n",
    "# save files\n",
    "for split in ['train', 'val', 'test']:\n",
    "    print(f'CCT built, saving {split} as {split}_cct.json')\n",
    "    new_cct = {\n",
    "        'images': imgs[split],\n",
    "        'annotations': annos[split],\n",
    "        'categories': js['categories'],\n",
    "        'info': js['info']\n",
    "    }\n",
    "    out_file = os.path.join(output_path, f'{split}_cct.json')\n",
    "    with open(out_file, 'w') as f:\n",
    "      json.dump(new_cct, f)"
   ]
  }
 ],
 "metadata": {
  "kernelspec": {
   "display_name": "cameratraps-classifier",
   "language": "python",
   "name": "python3"
  },
  "language_info": {
   "codemirror_mode": {
    "name": "ipython",
    "version": 3
   },
   "file_extension": ".py",
   "mimetype": "text/x-python",
   "name": "python",
   "nbconvert_exporter": "python",
   "pygments_lexer": "ipython3",
   "version": "3.7.6"
  },
  "orig_nbformat": 4
 },
 "nbformat": 4,
 "nbformat_minor": 2
}
