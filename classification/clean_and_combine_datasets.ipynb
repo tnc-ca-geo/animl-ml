{
 "cells": [
  {
   "cell_type": "markdown",
   "metadata": {},
   "source": [
    "# Clean and combine COCO datasets"
   ]
  },
  {
   "cell_type": "code",
   "execution_count": 1,
   "metadata": {},
   "outputs": [],
   "source": [
    "import os\n",
    "import json\n",
    "import pandas as pd"
   ]
  },
  {
   "cell_type": "markdown",
   "metadata": {},
   "source": [
    "### Functions"
   ]
  },
  {
   "cell_type": "code",
   "execution_count": 86,
   "metadata": {},
   "outputs": [],
   "source": [
    "def print_category_counts(cct):\n",
    "    '''\n",
    "    Prints a dataframe in which each row includes a category and its respective\n",
    "    number of annotations\n",
    "\n",
    "    Args:\n",
    "        cct (dict): A COCO for Cameratraps JSON file parsed into dict\n",
    "\n",
    "    Returns:\n",
    "        n/a\n",
    "    '''\n",
    "    category_map = {cct['categories'][i]['id']:cct['categories'][i]['name'] for i in range(len(cct['categories']))}\n",
    "    anns_df = pd.DataFrame(cct['annotations'])\n",
    "    counts = anns_df.groupby(['category_id']).size().reset_index(name='counts')\n",
    "    counts['category_name'] = counts['category_id'].map(category_map)\n",
    "    print(counts)\n",
    "\n",
    "\n",
    "def clean_cct(cct, categories):\n",
    "    '''\n",
    "    Clean and filter camera trap annotations in COCO for Cameratraps format\n",
    "    Filters out annotations (and corresponding images) that:\n",
    "      - don't have bounding boxes\n",
    "      - categories aren't included in list of selected categories\n",
    "      - the bbox is too large (>95% of width OR >95% height of image)\n",
    "\n",
    "    Args:\n",
    "        cct (dict): A COCO for Cameratraps JSON file parsed into dict\n",
    "        categories (list): A list of category IDs to keep\n",
    "\n",
    "    Returns:\n",
    "        A tuple composed of a cleaned, filtered cct dict\n",
    "        and a dict of rejects (key is reason, values are arrays of file names)\n",
    "    '''\n",
    "    print(f'No. annotations BEFORE cleaning: {len(cct[\"annotations\"])}')\n",
    "\n",
    "    image_lookup = {img['id']: img for img in cct['images']}\n",
    "\n",
    "    anns_to_keep = []\n",
    "    images_to_keep = []\n",
    "    categories_to_keep = list(filter(lambda cat: cat['id'] in categories, cct['categories']))\n",
    "    rejects = {\n",
    "        'bad_category': [],\n",
    "        'no_bbox': [],\n",
    "        'bbox_too_big': [],\n",
    "    }\n",
    "\n",
    "    for annotation in cct['annotations']:\n",
    "        image_id = annotation['image_id']\n",
    "        image = image_lookup.get(image_id)\n",
    "        if image is not None:\n",
    "            bbox = annotation.get('bbox')\n",
    "            width, height = image['width'], image['height']\n",
    "            if annotation.get('category_id') not in categories:\n",
    "                rejects['bad_category'].append(image['file_name'])\n",
    "                continue\n",
    "            if bbox is None:\n",
    "                rejects['no_bbox'].append(image['file_name'])\n",
    "                continue\n",
    "            if bbox[2] >= 0.95 * width or bbox[3] >= 0.95 * height:\n",
    "                rejects['bbox_too_big'].append(image['file_name'])\n",
    "                continue\n",
    "            anns_to_keep.append(annotation)\n",
    "            images_to_keep.append(image)\n",
    "\n",
    "    # de-dupe images (b/c images to annotations is a one-to-many relationship)\n",
    "    images_df = pd.DataFrame(images_to_keep).drop_duplicates()\n",
    "    images_to_keep = images_df.to_dict('records')\n",
    "\n",
    "    print(f'No. annotations AFTER cleaning: {len(anns_to_keep)}')\n",
    "    print(f'No. images AFTER cleaning: {len(images_to_keep)}')\n",
    "    for reason, anns in rejects.items():\n",
    "        print(f'  - {len(anns)} annotations had {reason}')\n",
    "\n",
    "    return {\n",
    "      'info': cct['info'],\n",
    "      'images': images_to_keep,\n",
    "      'annotations': anns_to_keep,\n",
    "      'categories': categories_to_keep\n",
    "    }, rejects"
   ]
  },
  {
   "cell_type": "markdown",
   "metadata": {},
   "source": [
    "### Animl Dataset (SCI Biosecurity)"
   ]
  },
  {
   "cell_type": "code",
   "execution_count": 3,
   "metadata": {},
   "outputs": [],
   "source": [
    "animl_cct_annotations_path = \"/home/nrindlaub/classifier-training/mdcache/v5.0a/sci-biosecurity_cct.json\""
   ]
  },
  {
   "cell_type": "code",
   "execution_count": 4,
   "metadata": {},
   "outputs": [],
   "source": [
    "with open(animl_cct_annotations_path, 'r') as f:\n",
    "    animl = json.load(f)"
   ]
  },
  {
   "cell_type": "code",
   "execution_count": 90,
   "metadata": {},
   "outputs": [
    {
     "name": "stdout",
     "output_type": "stream",
     "text": [
      "   category_id  counts category_name\n",
      "0            0       4         empty\n",
      "1            7       3        animal\n",
      "2            9   16922          bird\n",
      "3           10    7821        lizard\n",
      "4           13   11833           fox\n",
      "5           14     195           rat\n",
      "6           18       1         mouse\n",
      "7           20   30590        rodent\n",
      "8           21    2736     scrub jay\n",
      "9           22    1289         skunk\n"
     ]
    }
   ],
   "source": [
    "print_category_counts(animl)"
   ]
  },
  {
   "cell_type": "markdown",
   "metadata": {},
   "source": [
    "#### Dataset-specific cleaning\n",
    "For fixing bad CCT formatting or enriching CCT \n",
    "(e.g. parsing `image['file_name']` to derive `image['location']`; modifying catefory IDs)"
   ]
  },
  {
   "cell_type": "code",
   "execution_count": 8,
   "metadata": {},
   "outputs": [],
   "source": [
    "# animl CCT outputs its path in an \"original_relative_path\" field which is not\n",
    "# part of the CCT spec, so copy those path values to \"file_name\" for consistency\n",
    "\n",
    "def update_file_name(img):\n",
    "    img['file_name'] = img['original_relative_path']\n",
    "    img.pop('original_relative_path')\n",
    "    return img\n",
    "\n",
    "animl['images'] = list(map(update_file_name, animl['images']))"
   ]
  },
  {
   "cell_type": "code",
   "execution_count": 10,
   "metadata": {},
   "outputs": [
    {
     "data": {
      "text/plain": [
       "{'id': '3422ea65783a5775971eec489105eebe',\n",
       " 'file_name': 'X811459F/p_000020_3422ea65783a5775971eec489105eebe.jpg',\n",
       " 'datetime': '2021-04-03T04:44:20.000Z',\n",
       " 'location': 'Walnut drainage',\n",
       " 'width': 2048,\n",
       " 'height': 1536}"
      ]
     },
     "execution_count": 10,
     "metadata": {},
     "output_type": "execute_result"
    }
   ],
   "source": [
    "animl['images'][0]"
   ]
  },
  {
   "cell_type": "code",
   "execution_count": 31,
   "metadata": {},
   "outputs": [
    {
     "name": "stdout",
     "output_type": "stream",
     "text": [
      "No. annotations BEFORE cleaning: 71394\n",
      "No. annotations AFTER cleaning: 71284\n",
      "No. images AFTER cleaning: 69416\n",
      "  - 0 annotations had no_bbox\n",
      "  - 102 annotations had bbox_too_big\n",
      "  - 8 annotations had bad_category\n"
     ]
    }
   ],
   "source": [
    "animl_categories_to_keep = [9, 10, 13, 14, 20, 21, 22]\n",
    "animl_clean, rejects = clean_cct(animl, animl_categories_to_keep)"
   ]
  },
  {
   "cell_type": "markdown",
   "metadata": {},
   "source": [
    "### LILA Data ('rats' from Island Conservation Cameratraps dataset)"
   ]
  },
  {
   "cell_type": "code",
   "execution_count": 38,
   "metadata": {},
   "outputs": [],
   "source": [
    "ic_cct_annotations_path = \"/home/nrindlaub/images/island/metadata/island_conservation.json\""
   ]
  },
  {
   "cell_type": "code",
   "execution_count": 39,
   "metadata": {},
   "outputs": [],
   "source": [
    "with open(ic_rats_cct_annotations_path, 'r') as f:\n",
    "    ic = json.load(f)"
   ]
  },
  {
   "cell_type": "code",
   "execution_count": 92,
   "metadata": {},
   "outputs": [
    {
     "name": "stdout",
     "output_type": "stream",
     "text": [
      "    category_id  counts               category_name\n",
      "0             0   77670                       empty\n",
      "1             1     150                         cow\n",
      "2             2     845                      donkey\n",
      "3             3    6284                      iguana\n",
      "4             4     967                       raven\n",
      "5             5    4737                         cat\n",
      "6             6     160                         dog\n",
      "7             7       3                         NaN\n",
      "8             8    6237                       human\n",
      "9             9     967                     unknown\n",
      "10           10     232           white-winged_dove\n",
      "11           11     147                        bird\n",
      "12           12      38                   passerine\n",
      "13           13       1                         owl\n",
      "14           14   16341               burrowing_owl\n",
      "15           15       1                  barred_owl\n",
      "16           16       6                 green_heron\n",
      "17           17       9            american_kestrel\n",
      "18           18       3                 mockingbird\n",
      "19           19       9            great_blue_heron\n",
      "20           20     266                     chicken\n",
      "21           21    6999                      petrel\n",
      "22           22    8556                      rabbit\n",
      "23           23    1099                petrel_chick\n",
      "24           24     358                   eye_shine\n",
      "25           25       7                     kestrel\n",
      "26           26    2220                  shearwater\n",
      "27           27     201                       coati\n",
      "28           28      12                storm_petrel\n",
      "29           29      30                      pigeon\n",
      "30           30       1                        dove\n",
      "31           31       5                      spider\n",
      "32           32     278             short-eared_owl\n",
      "33           33      40                      insect\n",
      "34           34      15                      zorzal\n",
      "35           35      15                        seal\n",
      "36           36    3033                        goat\n",
      "37           37    2588                         pig\n",
      "38           38     113  yellow-crowned_night_heron\n",
      "39           39       6                  sea_turtle\n",
      "40           40     704                     rooster\n",
      "41           41      20                        crab\n",
      "42           42     334                    megapode\n",
      "43           43     106                 brown_noddy\n",
      "44           44      10              nicobar_pigeon\n",
      "45           45      52                        rail\n",
      "46           46     365              monitor_lizard\n",
      "47           47       1                        moth\n",
      "48           48     100                 hermit_crab\n"
     ]
    }
   ],
   "source": [
    "print_category_counts(ic)"
   ]
  },
  {
   "cell_type": "markdown",
   "metadata": {},
   "source": [
    "#### Dataset-specific cleaning\n",
    "For fixing bad CCT formatting or enriching CCT \n",
    "\n",
    "e.g. parsing `image['file_name']` to derive `image['location']`"
   ]
  },
  {
   "cell_type": "code",
   "execution_count": 52,
   "metadata": {},
   "outputs": [
    {
     "name": "stdout",
     "output_type": "stream",
     "text": [
      "No. annotations BEFORE cleaning: 142341\n",
      "No. annotations AFTER cleaning: 16335\n",
      "No. images AFTER cleaning: 6883\n",
      "  - 126003 annotations had bad_category\n",
      "  - 0 annotations had no_bbox\n",
      "  - 3 annotations had bbox_too_big\n"
     ]
    }
   ],
   "source": [
    "ic_categories_to_keep = [7]  # just rats\n",
    "ic_clean, rejects = clean_cct(ic, ic_categories_to_keep)"
   ]
  },
  {
   "cell_type": "code",
   "execution_count": 53,
   "metadata": {},
   "outputs": [
    {
     "data": {
      "text/plain": [
       "{'id': 'dominicanrepublic_camara116_cam11618mayo2017b_dominicanrepublic_cam11618mayo2017b_20170126_033638_img_0090',\n",
       " 'file_name': 'dominicanrepublic/camara116/cam11618mayo2017b/dominicanrepublic_cam11618mayo2017b_20170126_033638_img_0090.jpg',\n",
       " 'width': 1920,\n",
       " 'height': 1080,\n",
       " 'location': 'dominicanrepublic/camara116'}"
      ]
     },
     "execution_count": 53,
     "metadata": {},
     "output_type": "execute_result"
    }
   ],
   "source": [
    "# parse IC's image['file_name'] to derive image['location']\n",
    "for img in ic_clean['images']:\n",
    "    path = img['file_name'].split('/')[0:2]\n",
    "    path = '/'.join(path)\n",
    "    img['location'] = path\n",
    "\n",
    "ic_clean['images'][0]\n"
   ]
  },
  {
   "cell_type": "code",
   "execution_count": 56,
   "metadata": {},
   "outputs": [
    {
     "data": {
      "text/plain": [
       "{'id': '6e80a662-df2b-11ea-820f-000d3a74c7de',\n",
       " 'image_id': 'dominicanrepublic_camara116_cam11618mayo2017b_dominicanrepublic_cam11618mayo2017b_20170126_033638_img_0090',\n",
       " 'category_id': 14,\n",
       " 'bbox': [982.0799999999999, 620.028, 294.912, 74.952]}"
      ]
     },
     "execution_count": 56,
     "metadata": {},
     "output_type": "execute_result"
    }
   ],
   "source": [
    "# convert IC rat category ID to Animl's\n",
    "for ann in ic_clean['annotations']:\n",
    "    if ann['category_id'] == 7: # rat (IC)\n",
    "        ann['category_id'] = 14 # fox (Animl)\n",
    "\n",
    "for cat in ic_clean['categories']:\n",
    "    if cat['id'] == 7:\n",
    "        cat['id'] = 14\n",
    "\n",
    "ic_clean['annotations'][0]"
   ]
  },
  {
   "cell_type": "code",
   "execution_count": 57,
   "metadata": {},
   "outputs": [
    {
     "data": {
      "text/plain": [
       "[{'id': 14, 'name': 'rat'}]"
      ]
     },
     "execution_count": 57,
     "metadata": {},
     "output_type": "execute_result"
    }
   ],
   "source": [
    "ic_clean['categories']"
   ]
  },
  {
   "cell_type": "markdown",
   "metadata": {},
   "source": [
    "### Combine datasets"
   ]
  },
  {
   "cell_type": "code",
   "execution_count": 58,
   "metadata": {},
   "outputs": [],
   "source": [
    "# merge datasets into one CCT dict\n",
    "coco_out = {}\n",
    "coco_out['images'] = animl_clean['images'] + ic_clean['images']\n",
    "coco_out['annotations'] = animl_clean['annotations'] + ic_clean['annotations']\n",
    "coco_out['categories'] = animl_clean['categories']\n",
    "coco_out['info'] = animl_clean['info']\n",
    "\n",
    "print(f'combined dataset contains {len(coco_out[\"annotations\"])} annotations in {len(coco_out[\"images\"])} images of the following categories: \\n {list(map(lambda x: x[\"name\"], coco_out[\"categories\"]))}')"
   ]
  },
  {
   "cell_type": "code",
   "execution_count": 89,
   "metadata": {},
   "outputs": [
    {
     "name": "stdout",
     "output_type": "stream",
     "text": [
      "   category_id  counts category_name\n",
      "0            9   16922          bird\n",
      "1           10    7821        lizard\n",
      "2           13   11733           fox\n",
      "3           14   16530           rat\n",
      "4           20   30590        rodent\n",
      "5           21    2734     scrub jay\n",
      "6           22    1289         skunk\n"
     ]
    }
   ],
   "source": [
    "# sanity check\n",
    "assert len(coco_out[\"annotations\"]) == len(animl_clean[\"annotations\"]) + len(ic_clean[\"annotations\"])\n",
    "assert len(coco_out[\"images\"]) == len(animl_clean[\"images\"]) + len(ic_clean[\"images\"])\n",
    "print_category_counts(coco_out)"
   ]
  },
  {
   "cell_type": "code",
   "execution_count": 60,
   "metadata": {},
   "outputs": [],
   "source": [
    "# save as json file\n",
    "with open('/home/nrindlaub/classifier-training/mdcache/v5.0a/coco_out.json', 'w') as f:\n",
    "   json.dump(coco_out, f)\n"
   ]
  }
 ],
 "metadata": {
  "kernelspec": {
   "display_name": "cameratraps-classifier",
   "language": "python",
   "name": "python3"
  },
  "language_info": {
   "codemirror_mode": {
    "name": "ipython",
    "version": 3
   },
   "file_extension": ".py",
   "mimetype": "text/x-python",
   "name": "python",
   "nbconvert_exporter": "python",
   "pygments_lexer": "ipython3",
   "version": "3.7.6"
  },
  "orig_nbformat": 4
 },
 "nbformat": 4,
 "nbformat_minor": 2
}
