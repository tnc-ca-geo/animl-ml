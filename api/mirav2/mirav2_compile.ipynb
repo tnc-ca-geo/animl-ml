{
 "cells": [
  {
   "cell_type": "markdown",
   "metadata": {},
   "source": [
    "TODO: document this\n",
    "\n",
    "things to note: \n",
    "- model was trained on GPU so need to load weights and compile to CPU\n",
    "- important to check torchvision (if used here) and torch versions & be sure they match the versions pinned in the deployment container's Dockerfile"
   ]
  },
  {
   "cell_type": "code",
   "execution_count": null,
   "metadata": {},
   "outputs": [],
   "source": [
    "import torch\n",
    "from efficientnet_pytorch import EfficientNet\n",
    "\n",
    "torch.__version__"
   ]
  },
  {
   "cell_type": "code",
   "execution_count": null,
   "metadata": {},
   "outputs": [],
   "source": [
    "ckpt = torch.load(\"model-weights/ckpt_18.pt\", map_location=torch.device(\"cpu\"))\n",
    "model = EfficientNet.from_pretrained(\"efficientnet-b3\", num_classes=5)\n",
    "model.load_state_dict(ckpt['model'])"
   ]
  },
  {
   "cell_type": "code",
   "execution_count": null,
   "metadata": {},
   "outputs": [],
   "source": [
    "model.eval()"
   ]
  },
  {
   "cell_type": "code",
   "execution_count": null,
   "metadata": {},
   "outputs": [],
   "source": [
    "# from https://github.com/microsoft/CameraTraps/blob/ccb5e98095cf81a625bf19129cb3dc97354f6284/classification/evaluate_model.py#L71\n",
    "img_size = 300\n",
    "compiled_path = './model-weights/mira_compiled_cpu.pt'\n",
    "\n",
    "model.set_swish(memory_efficient=False)\n",
    "ex_img = torch.rand(1, 3, img_size, img_size)\n",
    "scripted_model = torch.jit.trace(model, (ex_img,))\n",
    "\n",
    "scripted_model.save(compiled_path)\n",
    "print('Saved TorchScript compiled model to', compiled_path)"
   ]
  }
 ],
 "metadata": {
  "kernelspec": {
   "display_name": "env",
   "language": "python",
   "name": "env"
  },
  "language_info": {
   "codemirror_mode": {
    "name": "ipython",
    "version": 3
   },
   "file_extension": ".py",
   "mimetype": "text/x-python",
   "name": "python",
   "nbconvert_exporter": "python",
   "pygments_lexer": "ipython3",
   "version": "3.9.0"
  },
  "orig_nbformat": 4
 },
 "nbformat": 4,
 "nbformat_minor": 2
}
