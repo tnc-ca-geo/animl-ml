{
 "cells": [
  {
   "cell_type": "markdown",
   "metadata": {},
   "source": [
    "# Deploy SpeciesNet to SageMaker Serverless\n",
    "\n",
    "This notebook deploys the SpeciesNet model to a SageMaker serverless endpoint."
   ]
  },
  {
   "cell_type": "markdown",
   "metadata": {},
   "source": [
    "## Setup\n",
    "\n",
    "### Import Dependencies"
   ]
  },
  {
   "cell_type": "code",
   "execution_count": null,
   "metadata": {},
   "outputs": [],
   "source": [
    "%matplotlib inline\n",
    "\n",
    "import boto3\n",
    "import time\n",
    "import json\n",
    "import base64\n",
    "from pathlib import Path\n",
    "from PIL import Image\n",
    "import sagemaker\n",
    "from io import BytesIO"
   ]
  },
  {
   "cell_type": "markdown",
   "metadata": {},
   "source": [
    "### Initialize AWS Session"
   ]
  },
  {
   "cell_type": "code",
   "execution_count": null,
   "metadata": {},
   "outputs": [],
   "source": [
    "sess = boto3.Session()\n",
    "sm = sess.client('sagemaker')\n",
    "region = sess.region_name\n",
    "account = boto3.client('sts').get_caller_identity().get('Account')"
   ]
  },
  {
   "cell_type": "markdown",
   "metadata": {},
   "source": [
    "### Get IAM Role\n",
    "\n",
    "**Note**: Ensure the IAM role has:\n",
    "- `AmazonS3FullAccess`\n",
    "- `AmazonSageMakerFullAccess`"
   ]
  },
  {
   "cell_type": "code",
   "execution_count": null,
   "metadata": {},
   "outputs": [],
   "source": [
    "role = sagemaker.get_execution_role()\n",
    "print(f\"Using role: {role}\")"
   ]
  },
  {
   "cell_type": "markdown",
   "metadata": {},
   "source": [
    "## Build and Push Container\n",
    "\n",
    "Build the custom container with our inference code and push it to Amazon ECR."
   ]
  },
  {
   "cell_type": "code",
   "execution_count": null,
   "metadata": {},
   "outputs": [],
   "source": [
    "# Create ECR repository if it doesn't exist\n",
    "registry_name = \"speciesnet-sagemaker\"\n",
    "ecr = boto3.client('ecr')\n",
    "\n",
    "try:\n",
    "    ecr.create_repository(repositoryName=registry_name)\n",
    "except ecr.exceptions.RepositoryAlreadyExistsException:\n",
    "    pass\n",
    "\n",
    "# Get auth token and login to ECR\n",
    "!aws ecr get-login-password --region {region} | docker login --username AWS --password-stdin {account}.dkr.ecr.{region}.amazonaws.com\n",
    "\n",
    "# Build container\n",
    "!docker build -t {registry_name} -f Dockerfile.sagemaker .\n",
    "\n",
    "# Tag and push to ECR\n",
    "image_uri = f\"{account}.dkr.ecr.{region}.amazonaws.com/{registry_name}:latest\"\n",
    "!docker tag {registry_name} {image_uri}\n",
    "!docker push {image_uri}\n",
    "\n",
    "print(f\"Container pushed to: {image_uri}\")"
   ]
  },
  {
   "cell_type": "markdown",
   "metadata": {},
   "source": [
    "## Create SageMaker Model"
   ]
  },
  {
   "cell_type": "code",
   "execution_count": null,
   "metadata": {},
   "outputs": [],
   "source": [
    "model_prefix = \"speciesnet-v4.0.0a\"\n",
    "\n",
    "# Check if model already exists\n",
    "model_already_created = False\n",
    "for model_def in sm.list_models()['Models']:\n",
    "    if model_prefix == model_def['ModelName']:\n",
    "        create_model_response = model_def\n",
    "        model_already_created = True\n",
    "\n",
    "# Create model if it doesn't exist\n",
    "if not model_already_created:\n",
    "    create_model_response = sm.create_model(\n",
    "        ModelName=model_prefix,\n",
    "        ExecutionRoleArn=role,\n",
    "        PrimaryContainer={\n",
    "            \"Image\": image_uri,\n",
    "            \"Environment\": {\n",
    "                \"SAGEMAKER_PROGRAM\": \"serve.py\"\n",
    "            }\n",
    "        }\n",
    "    )\n",
    "\n",
    "print(f\"Model ARN: {create_model_response['ModelArn']}\")"
   ]
  },
  {
   "cell_type": "markdown",
   "metadata": {},
   "source": [
    "## Create Endpoint Configuration"
   ]
  },
  {
   "cell_type": "code",
   "execution_count": null,
   "metadata": {},
   "outputs": [],
   "source": [
    "endpoint_config_name = f\"{model_prefix}-config\"\n",
    "create_endpoint_config_response = sm.create_endpoint_config(\n",
    "    EndpointConfigName=endpoint_config_name,\n",
    "    ProductionVariants=[\n",
    "        {\n",
    "            \"ModelName\": model_prefix,\n",
    "            \"VariantName\": \"AllTraffic\",\n",
    "            \"ServerlessConfig\": {\n",
    "                \"MemorySizeInMB\": 6144,  # 6GB memory\n",
    "                \"MaxConcurrency\": 8       # Maximum concurrent invocations\n",
    "            }\n",
    "        }\n",
    "    ]\n",
    ")\n",
    "\n",
    "print(f\"Endpoint Config ARN: {create_endpoint_config_response['EndpointConfigArn']}\")"
   ]
  },
  {
   "cell_type": "markdown",
   "metadata": {},
   "source": [
    "## Create and Deploy Endpoint"
   ]
  },
  {
   "cell_type": "code",
   "execution_count": null,
   "metadata": {},
   "outputs": [],
   "source": [
    "endpoint_name = model_prefix\n",
    "create_endpoint_response = sm.create_endpoint(\n",
    "    EndpointName=endpoint_name,\n",
    "    EndpointConfigName=endpoint_config_name\n",
    ")\n",
    "\n",
    "print(f\"Endpoint ARN: {create_endpoint_response['EndpointArn']}\")\n",
    "\n",
    "# Wait for endpoint creation\n",
    "resp = sm.describe_endpoint(EndpointName=endpoint_name)\n",
    "status = resp['EndpointStatus']\n",
    "print(f\"Status: {status}\")\n",
    "\n",
    "while status == 'Creating':\n",
    "    time.sleep(60)\n",
    "    resp = sm.describe_endpoint(EndpointName=endpoint_name)\n",
    "    status = resp['EndpointStatus']\n",
    "    print(f\"Status: {status}\")\n",
    "\n",
    "print(f\"Arn: {resp['EndpointArn']}\")\n",
    "print(f\"Final Status: {status}\")"
   ]
  },
  {
   "cell_type": "markdown",
   "metadata": {},
   "source": [
    "## Test the Endpoint"
   ]
  },
  {
   "cell_type": "code",
   "execution_count": null,
   "metadata": {},
   "outputs": [],
   "source": [
    "# Load a test image from the test_data directory\n",
    "test_image = Image.open(\"tests/test_data/african_elephants.jpg\")\n",
    "display(test_image)\n",
    "\n",
    "# Convert image to base64\n",
    "buffered = BytesIO()\n",
    "test_image.save(buffered, format=\"JPEG\")\n",
    "img_str = base64.b64encode(buffered.getvalue()).decode()\n",
    "\n",
    "# Prepare payload\n",
    "payload = {\n",
    "    \"image_data\": img_str,\n",
    "    \"country\": \"Kenya\"  # Optional: provide location context\n",
    "}\n",
    "\n",
    "# Invoke endpoint\n",
    "client = boto3.client('runtime.sagemaker')\n",
    "response = client.invoke_endpoint(\n",
    "    EndpointName=endpoint_name,\n",
    "    ContentType='application/json',\n",
    "    Body=json.dumps(payload)\n",
    ")\n",
    "\n",
    "# Parse results\n",
    "result = json.loads(response['Body'].read().decode())\n",
    "print(\"\\nPrediction Results:\")\n",
    "print(json.dumps(result, indent=2))"
   ]
  },
  {
   "cell_type": "markdown",
   "metadata": {},
   "source": [
    "## Cleanup Resources\n",
    "\n",
    "**Note**: Only run this cell when you want to delete the endpoint and associated resources."
   ]
  },
  {
   "cell_type": "code",
   "execution_count": null,
   "metadata": {},
   "outputs": [],
   "source": [
    "# Uncomment to cleanup\n",
    "# client = boto3.client('sagemaker')\n",
    "# client.delete_endpoint(EndpointName=endpoint_name)\n",
    "# client.delete_endpoint_config(EndpointConfigName=endpoint_config_name)\n",
    "# client.delete_model(ModelName=model_prefix)"
   ]
  }
 ],
 "metadata": {
  "kernelspec": {
   "display_name": "Python 3",
   "language": "python",
   "name": "python3"
  },
  "language_info": {
   "codemirror_mode": {
    "name": "ipython",
    "version": 3
   },
   "file_extension": ".py",
   "mimetype": "text/x-python",
   "name": "python",
   "nbconvert_exporter": "python",
   "pygments_lexer": "ipython3",
   "version": "3.11"
  }
 },
 "nbformat": 4,
 "nbformat_minor": 4
}
