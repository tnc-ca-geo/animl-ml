{
 "cells": [
  {
   "attachments": {},
   "cell_type": "markdown",
   "metadata": {},
   "source": [
    "## Loading sdzwa-andesv1 weights into PyTorch and compiling to Torchscript\n",
    "\n",
    "Things to note: \n",
    "- the model was trained on a GPU so we need to load weights and re-compile to CPU\n",
    "- it's important to check what version of torchvision (if used here) and torch you're running in this notebook environment & be sure they match the versions pinned in the deployment container's Dockerfile\n",
    "- it's important to know which version of efficientnet was used in training (in sdzwa-andesv1's case it was [EfficientNetV2](http://pytorch.org/vision/main/models/efficientnetv2.html)) and the size of the inputs (299x299)."
   ]
  },
  {
   "cell_type": "code",
   "execution_count": 1,
   "metadata": {},
   "outputs": [
    {
     "data": {
      "text/plain": [
       "'2.3.1'"
      ]
     },
     "execution_count": 1,
     "metadata": {},
     "output_type": "execute_result"
    }
   ],
   "source": [
    "import torch\n",
    "from torchvision.models import efficientnet\n",
    "\n",
    "torch.__version__"
   ]
  },
  {
   "cell_type": "code",
   "execution_count": 2,
   "metadata": {},
   "outputs": [],
   "source": [
    "# From Kyra's code: https://github.com/conservationtechlab/animl-py/blob/main/src/animl/classifiers.py\n",
    "import os\n",
    "import pandas as pd\n",
    "# import onnxruntime\n",
    "from pathlib import Path\n",
    "from time import time\n",
    "import glob\n",
    "import torch.nn as nn\n",
    "\n",
    "def load_model(model_path, class_file, device=None, architecture=\"CTL\"):\n",
    "    '''\n",
    "    Creates a model instance and loads the latest model state weights.\n",
    "\n",
    "    Args:\n",
    "        - model_path (str): file or directory path to model weights\n",
    "        - class_file (str): path to associated class list\n",
    "        - device (str): specify to run on cpu or gpu\n",
    "        - architecture (str): expected model architecture\n",
    "\n",
    "    Returns:\n",
    "        - model: model object of given architecture with loaded weights\n",
    "        - classes: associated species class list\n",
    "        - start_epoch (int): current epoch, 0 if not resuming training\n",
    "    '''\n",
    "    # read class file\n",
    "    model_path = Path(r\"\"+model_path)\n",
    "    classes = pd.read_csv(Path(r\"\"+class_file))\n",
    "\n",
    "    # check to make sure GPU is available if chosen\n",
    "    if not torch.cuda.is_available():\n",
    "        device = 'cpu'\n",
    "    elif torch.cuda.is_available() and device is None:\n",
    "        device = 'cuda:0'\n",
    "    else:\n",
    "        device = device\n",
    "\n",
    "    print('Device set to', device)\n",
    "\n",
    "    # load latest model state from given folder\n",
    "    if os.path.isdir(model_path):\n",
    "        model_path = str(model_path)\n",
    "        start_epoch = 0\n",
    "        if (architecture == \"CTL\") or (architecture == \"efficientnet_v2_m\"):\n",
    "            model = EfficientNet(len(classes))\n",
    "        else:  # can only resume CTL models from a directory at this time\n",
    "            raise AssertionError('Please provide the correct model')\n",
    "\n",
    "        model_states = glob.glob(model_path + '*.pt')\n",
    "\n",
    "        if len(model_states):\n",
    "            # at least one save state found; get latest\n",
    "            model_epochs = [int(m.replace(model_path, '').replace('.pt', '')) for m in model_states]\n",
    "            start_epoch = max(model_epochs)\n",
    "\n",
    "            # load state dict and apply weights to model\n",
    "            print(f'Resuming from epoch {start_epoch}')\n",
    "            state = torch.load(open(f'{model_path}/{start_epoch}.pt', 'rb'))\n",
    "            model.load_state_dict(state['model'])\n",
    "        else:\n",
    "            # no save state found; start anew\n",
    "            print('No model state found, starting new model')\n",
    "\n",
    "        return model, classes, start_epoch\n",
    "\n",
    "    # load a specific model file\n",
    "    elif os.path.isfile(model_path):\n",
    "        print(f'Loading model at {model_path}')\n",
    "        start_time = time()\n",
    "        # TensorFlow\n",
    "        # if model_path.endswith('.h5'):\n",
    "        #    model = keras.models.load_model(model_path)\n",
    "        # PyTorch dict\n",
    "        if model_path.suffix == '.pt':\n",
    "            model = EfficientNet(len(classes), tune=False)\n",
    "            checkpoint = torch.load(model_path, map_location=device)\n",
    "            model.load_state_dict(checkpoint['model'])\n",
    "            model.to(device)\n",
    "            model.eval()\n",
    "            model.framework = \"EfficientNet\"\n",
    "        # PyTorch full model\n",
    "        elif model_path.suffix == '.pth':\n",
    "            model = torch.load(model_path, map_location=device)\n",
    "            model.to(device)\n",
    "            model.eval()\n",
    "            model.framework = \"pytorch\"\n",
    "        # elif model_path.suffix == '.onnx':\n",
    "        #     if device == \"cpu\":\n",
    "        #         model = onnxruntime.InferenceSession(model_path, providers=[\"CPUExecutionProvider\"])\n",
    "        #     else:\n",
    "        #         model = onnxruntime.InferenceSession(model_path, providers=[\"CUDAExecutionProvider\"])\n",
    "        #     model.framework = \"onnx\"\n",
    "        else:\n",
    "            raise ValueError('Unrecognized model format: {}'.format(model_path))\n",
    "        elapsed = time() - start_time\n",
    "        print('Loaded model in %.2f seconds' % elapsed)\n",
    "\n",
    "        # no need to return epoch\n",
    "        return model, classes\n",
    "\n",
    "    # no dir or file found\n",
    "    else:\n",
    "        raise ValueError(\"Model not found at given path\")\n",
    "    \n",
    "class EfficientNet(nn.Module):\n",
    "\n",
    "    def __init__(self, num_classes, tune=True):\n",
    "        '''\n",
    "            Construct the model architecture.\n",
    "        '''\n",
    "        super(EfficientNet, self).__init__()\n",
    "        self.avgpool = nn.AdaptiveAvgPool2d(1)\n",
    "\n",
    "        self.model = efficientnet.efficientnet_v2_m(weights=efficientnet.EfficientNet_V2_M_Weights.DEFAULT)       # \"pretrained\": use weights pre-trained on ImageNet\n",
    "        if tune:\n",
    "            for params in self.model.parameters():\n",
    "                params.requires_grad = True\n",
    "\n",
    "        num_ftrs = self.model.classifier[1].in_features\n",
    "\n",
    "        self.model.classifier[1] = nn.Linear(in_features=num_ftrs, out_features=num_classes)\n",
    "\n",
    "    def forward(self, x):\n",
    "        '''\n",
    "            Forward pass (prediction)\n",
    "        '''\n",
    "        # x.size(): [B x 3 x W x H]\n",
    "        x = self.model.features(x)\n",
    "        x = self.avgpool(x)\n",
    "        x = torch.flatten(x, 1)\n",
    "\n",
    "        prediction = self.model.classifier(x)  # prediction.size(): [B x num_classes]\n",
    "\n",
    "        return prediction"
   ]
  },
  {
   "cell_type": "code",
   "execution_count": 3,
   "metadata": {},
   "outputs": [
    {
     "name": "stdout",
     "output_type": "stream",
     "text": [
      "Device set to cpu\n",
      "Loading model at model-weights/andes_v1.pt\n",
      "Loaded model in 1.04 seconds\n"
     ]
    }
   ],
   "source": [
    "classifier, class_list = load_model('model-weights/andes_v1.pt', 'model-weights/andes_classes.csv')\n"
   ]
  },
  {
   "cell_type": "code",
   "execution_count": 4,
   "metadata": {},
   "outputs": [],
   "source": [
    "# Save out the whole model for future inference deployment\n",
    "# https://pytorch.org/tutorials/beginner/saving_loading_models.html\n",
    "\n",
    "compiled_path = './model-weights/andes_v1_compiled_cpu.pt'\n",
    "\n",
    "model_scripted = torch.jit.script(classifier) # Export to TorchScript\n",
    "model_scripted.save(compiled_path) # Save"
   ]
  }
 ],
 "metadata": {
  "kernelspec": {
   "display_name": "env",
   "language": "python",
   "name": "python3"
  },
  "language_info": {
   "codemirror_mode": {
    "name": "ipython",
    "version": 3
   },
   "file_extension": ".py",
   "mimetype": "text/x-python",
   "name": "python",
   "nbconvert_exporter": "python",
   "pygments_lexer": "ipython3",
   "version": "3.9.19"
  },
  "orig_nbformat": 4
 },
 "nbformat": 4,
 "nbformat_minor": 2
}
