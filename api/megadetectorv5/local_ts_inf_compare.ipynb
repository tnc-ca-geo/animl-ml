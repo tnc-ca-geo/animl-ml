{
 "cells": [
  {
   "cell_type": "markdown",
   "id": "2bb461a3-67a6-462e-b7cd-5150ab46aefb",
   "metadata": {},
   "source": [
    "# Profiling speed of img size vs model type"
   ]
  },
  {
   "cell_type": "markdown",
   "id": "2ead5dcf-21e0-46f1-8496-c7e56027b030",
   "metadata": {},
   "source": [
    "Torchscript 1280x1280"
   ]
  },
  {
   "cell_type": "code",
   "execution_count": 1,
   "id": "9734ab0d-8353-47d7-a015-561777dfc9b0",
   "metadata": {
    "tags": []
   },
   "outputs": [
    {
     "name": "stdout",
     "output_type": "stream",
     "text": [
      "CPU times: user 11.1 s, sys: 1.59 s, total: 12.7 s\n",
      "Wall time: 12.6 s\n"
     ]
    }
   ],
   "source": [
    "%%time\n",
    "import torchvision.transforms as tf\n",
    "import torch\n",
    "from PIL import Image\n",
    "ts_model = torch.jit.load(\"./model-weights/md_v5a.0.0.1280.torchscript\")\n",
    "result = ts_model.forward(x = torch.randn(1, 3, 1280, 1280, requires_grad=False))"
   ]
  },
  {
   "cell_type": "markdown",
   "id": "df2aafa3-c683-474f-9d15-20e64f76cfe1",
   "metadata": {},
   "source": [
    "ONNX 1280x1280"
   ]
  },
  {
   "cell_type": "code",
   "execution_count": 2,
   "id": "298ff8ce-24ee-483e-af45-ffd6ad22cc1e",
   "metadata": {
    "tags": []
   },
   "outputs": [
    {
     "name": "stdout",
     "output_type": "stream",
     "text": [
      "CPU times: user 13.6 s, sys: 1.07 s, total: 14.7 s\n",
      "Wall time: 5.86 s\n"
     ]
    }
   ],
   "source": [
    "%%time\n",
    "import onnx\n",
    "import torchvision.transforms as tf\n",
    "import torch\n",
    "from PIL import Image\n",
    "import numpy as np\n",
    "import onnxruntime as ort\n",
    "ort_session = ort.InferenceSession(\"./model-weights/md_v5a.0.0.1280.onnx\")\n",
    "outputs = ort_session.run(\n",
    "    None,\n",
    "    {\"images\": np.random.randn(1, 3, 1280, 1280).astype(np.float32)},\n",
    ")"
   ]
  },
  {
   "cell_type": "markdown",
   "id": "3b81885a-61e8-4b72-8fde-77725999440c",
   "metadata": {},
   "source": [
    "ONNX 960x1280. the aspect ratio of the buckeye cams, resizing to this result sin no aspect ratio change with still pretty large size that matches image size used during training."
   ]
  },
  {
   "cell_type": "code",
   "execution_count": 3,
   "id": "cd711463-3ec8-4969-a4c3-acb67b147aaf",
   "metadata": {
    "tags": []
   },
   "outputs": [],
   "source": [
    "import albumentations as A\n",
    "def preprocess_preserve_aspect_ratio(img):\n",
    "    \"\"\"Converts input images to float tensors.\n",
    "    Args:\n",
    "        data (List): Input data from the request in the form of a list of image tensors.\n",
    "    Returns:\n",
    "        Tensor: single Tensor of shape [BATCH_SIZE, 3, IMG_SIZE, IMG_SIZE]\n",
    "    \"\"\"\n",
    "\n",
    "    transform = A.Compose(\n",
    "            [A.LongestMaxSize(max_size=1280, always_apply=True)],\n",
    "    )\n",
    "\n",
    "    image = transform(image=np.array(img))\n",
    "\n",
    "    return image"
   ]
  },
  {
   "cell_type": "code",
   "execution_count": 4,
   "id": "f7c8be20-ecc0-4b66-a2ea-669623815163",
   "metadata": {
    "tags": []
   },
   "outputs": [],
   "source": [
    "img = Image.open(\"./p_000061.jpg\")"
   ]
  },
  {
   "cell_type": "code",
   "execution_count": 5,
   "id": "81445791-d9aa-4cda-920a-9c3f788b5aca",
   "metadata": {
    "tags": []
   },
   "outputs": [
    {
     "data": {
      "text/plain": [
       "(1536, 2048, 3)"
      ]
     },
     "execution_count": 5,
     "metadata": {},
     "output_type": "execute_result"
    }
   ],
   "source": [
    "np.array(img).shape"
   ]
  },
  {
   "cell_type": "code",
   "execution_count": 6,
   "id": "f6e2f458-366f-40f8-9677-7c4ae7d21778",
   "metadata": {
    "tags": []
   },
   "outputs": [],
   "source": [
    "lms = preprocess_preserve_aspect_ratio(img)\n",
    "img_lms = Image.fromarray(lms['image'])"
   ]
  },
  {
   "cell_type": "code",
   "execution_count": 7,
   "id": "22b40220-f557-4848-b685-7eaee72df39c",
   "metadata": {
    "tags": []
   },
   "outputs": [
    {
     "data": {
      "text/plain": [
       "(960, 1280, 3)"
      ]
     },
     "execution_count": 7,
     "metadata": {},
     "output_type": "execute_result"
    }
   ],
   "source": [
    "np.array(lms['image']).shape"
   ]
  },
  {
   "cell_type": "code",
   "execution_count": 12,
   "id": "1ed7f19a-498d-4d13-9b01-063f4f0c3499",
   "metadata": {
    "tags": []
   },
   "outputs": [
    {
     "name": "stdout",
     "output_type": "stream",
     "text": [
      "CPU times: user 9.47 s, sys: 844 ms, total: 10.3 s\n",
      "Wall time: 3.95 s\n"
     ]
    }
   ],
   "source": [
    "%%time\n",
    "ort_session_960_1280 = ort.InferenceSession(\"./model-weights/md_v5a.0.0.960.1280.onnx\")\n",
    "outputs = ort_session_960_1280.run(\n",
    "    None,\n",
    "    {\"images\": np.random.randn(1, 3, 960, 1280).astype(np.float32)},\n",
    ")"
   ]
  },
  {
   "cell_type": "markdown",
   "id": "d82a7981-d26d-40a2-aa1f-41a2ea50e765",
   "metadata": {},
   "source": [
    "Original Inference with letterbox resizing and original model weights on approx 960,1280 img"
   ]
  },
  {
   "cell_type": "code",
   "execution_count": 1,
   "id": "d2b7b061-2ffb-4b24-a633-780a96fb877a",
   "metadata": {
    "tags": []
   },
   "outputs": [
    {
     "name": "stdout",
     "output_type": "stream",
     "text": [
      "False\n"
     ]
    },
    {
     "name": "stderr",
     "output_type": "stream",
     "text": [
      "YOLOv5 🚀 2023-2-3 Python-3.9.16 torch-1.10.0 CPU\n",
      "\n",
      "Fusing layers... \n",
      "Model summary: 574 layers, 139990096 parameters, 0 gradients, 207.9 GFLOPs\n",
      "Adding AutoShape... \n"
     ]
    },
    {
     "name": "stdout",
     "output_type": "stream",
     "text": [
      "CPU times: user 5.46 s, sys: 1.29 s, total: 6.75 s\n",
      "Wall time: 7.08 s\n"
     ]
    }
   ],
   "source": [
    "%%time\n",
    "import torch\n",
    "import os\n",
    "import sys\n",
    "import numpy as np\n",
    "print(torch.cuda.is_available())\n",
    "np.random.seed(42)\n",
    "torch.manual_seed(42)\n",
    "os.environ[\"PYTHONHASHSEED\"] = \"42\"\n",
    "torch.backends.cudnn.deterministic = True\n",
    "torch.backends.cudnn.benchmark = False\n",
    "torch.set_num_threads(1)\n",
    "device = torch.device(\"cpu\")\n",
    "# Read model serialize/pt file\n",
    "serialized_file = \"models/md_v5a.0.0.pt\"\n",
    "\n",
    "# Model\n",
    "weights_model = torch.hub.load('./yolov5', 'custom', source = \"local\", skip_validation=True, path=serialized_file) "
   ]
  },
  {
   "cell_type": "code",
   "execution_count": 2,
   "id": "af2d3e1d-c609-4197-b925-79cfae35365a",
   "metadata": {
    "jupyter": {
     "source_hidden": true
    },
    "tags": []
   },
   "outputs": [],
   "source": [
    "from ts.torch_handler.base_handler import BaseHandler\n",
    "import numpy as np\n",
    "import cv2\n",
    "import base64\n",
    "import torch\n",
    "import torchvision.transforms as tf\n",
    "import torchvision\n",
    "import io\n",
    "from PIL import Image\n",
    "\n",
    "img_size = 1280\n",
    "min_conf_thresh = 0.00001\n",
    "\n",
    "\n",
    "def preprocess(img_path):\n",
    "    \"\"\"Converts input images to float tensors.\n",
    "    Args:\n",
    "        data (List): Input data from the request in the form of a list of image tensors.\n",
    "    Returns:\n",
    "        Tensor: single Tensor of shape [BATCH_SIZE=1, 3, IMG_SIZE, IMG_SIZE]\n",
    "    \"\"\"\n",
    "    image = load_image(img_path)\n",
    "    # force convert to tensor\n",
    "    # and resize to [img_size, img_size]\n",
    "    image = np.asarray(image)\n",
    "    image = letterbox(image, new_shape=img_size,\n",
    "                stride=64, auto=True)[0]  # JIT requires auto=False\\\n",
    "    image = image.transpose((2, 0, 1))  # HWC to CHW; PIL Image is RGB already\n",
    "    image = np.ascontiguousarray(image)\n",
    "    image = torch.from_numpy(image)\n",
    "    # image = image.to(self.device)\n",
    "    image = image.float()\n",
    "    image /= 255\n",
    "    image = torch.unsqueeze(image, 0)\n",
    "    # has shape BATCH_SIZE=1 x 3 x IMG_SIZE x IMG_SIZE\n",
    "    return image\n",
    "\n",
    "def postprocess(inference_output):\n",
    "    # perform NMS (nonmax suppression) on model outputs\n",
    "    pred = non_max_suppression(inference_output, conf_thres=min_conf_thresh, iou_thres=.45)\n",
    "\n",
    "    # initialize empty list of detections for each image\n",
    "    detections = [[] for _ in range(len(pred))]\n",
    "\n",
    "    for i, image_detections in enumerate(pred):  # axis 0: for each image\n",
    "        for det in image_detections:  # axis 1: for each detection\n",
    "            # x1,y1,x2,y2 in normalized image coordinates (i.e. 0.0-1.0)\n",
    "            xyxy = det[:4] / img_size\n",
    "            # confidence value\n",
    "            conf = det[4].item()\n",
    "            # index of predicted class\n",
    "            class_idx = int(det[5].item())\n",
    "            detections[i].append({\n",
    "                \"x1\": xyxy[0].item(),\n",
    "                \"y1\": xyxy[1].item(),\n",
    "                \"x2\": xyxy[2].item(),\n",
    "                \"y2\": xyxy[3].item(),\n",
    "                \"confidence\": conf,\n",
    "                \"class\": class_idx + 1 # schema we use is 1 for animal, 2 for person, 3 for vehicle\n",
    "            })\n",
    "\n",
    "    # format each detection\n",
    "    return detections\n",
    "\n",
    "\n",
    "def non_max_suppression(prediction, conf_thres=0.25, iou_thres=0.45, classes=None, agnostic=False, multi_label=False,\n",
    "                    labels=(), max_det=1000):\n",
    "    \"\"\"Runs Non-Maximum Suppression (NMS) on inference results\n",
    "    Returns:\n",
    "         list of detections, on (n,6) tensor per image [xyxy, conf, cls]\n",
    "    \"\"\"\n",
    "\n",
    "    nc = prediction.shape[2] - 5  # number of classes\n",
    "    xc = prediction[..., 4] > conf_thres  # candidates\n",
    "\n",
    "    # Checks\n",
    "    assert 0 <= conf_thres <= 1, f'Invalid Confidence threshold {conf_thres}, valid values are between 0.0 and 1.0'\n",
    "    assert 0 <= iou_thres <= 1, f'Invalid IoU {iou_thres}, valid values are between 0.0 and 1.0'\n",
    "\n",
    "    # Settings\n",
    "    # (pixels) minimum and maximum box width and height\n",
    "    min_wh, max_wh = 2, 4096\n",
    "    max_nms = 30000  # maximum number of boxes into torchvision.ops.nms()\n",
    "    time_limit = 10.0  # seconds to quit after\n",
    "    redundant = True  # require redundant detections\n",
    "    multi_label &= nc > 1  # multiple labels per box (adds 0.5ms/img)\n",
    "    merge = False  # use merge-NMS\n",
    "\n",
    "    output = [torch.zeros((0, 6), device=prediction.device)\n",
    "              ] * prediction.shape[0]\n",
    "    for xi, x in enumerate(prediction):  # image index, image inference\n",
    "        # Apply constraints\n",
    "        # x[((x[..., 2:4] < min_wh) | (x[..., 2:4] > max_wh)).any(1), 4] = 0  # width-height\n",
    "        x = x[xc[xi]]  # confidence\n",
    "\n",
    "        # Cat apriori labels if autolabelling\n",
    "        if labels and len(labels[xi]):\n",
    "            l = labels[xi]\n",
    "            v = torch.zeros((len(l), nc + 5), device=x.device)\n",
    "            v[:, :4] = l[:, 1:5]  # box\n",
    "            v[:, 4] = 1.0  # conf\n",
    "            v[range(len(l)), l[:, 0].long() + 5] = 1.0  # cls\n",
    "            x = torch.cat((x, v), 0)\n",
    "\n",
    "        # If none remain process next image\n",
    "        if not x.shape[0]:\n",
    "            continue\n",
    "\n",
    "        # Compute conf\n",
    "        x[:, 5:] *= x[:, 4:5]  # conf = obj_conf * cls_conf\n",
    "\n",
    "        # Box (center x, center y, width, height) to (x1, y1, x2, y2)\n",
    "        box = xywh2xyxy(x[:, :4])\n",
    "\n",
    "        # Detections matrix nx6 (xyxy, conf, cls)\n",
    "        if multi_label:\n",
    "            i, j = (x[:, 5:] > conf_thres).nonzero(as_tuple=False).T\n",
    "            x = torch.cat((box[i], x[i, j + 5, None], j[:, None].float()), 1)\n",
    "        else:  # best class only\n",
    "            conf, j = x[:, 5:].max(1, keepdim=True)\n",
    "            x = torch.cat((box, conf, j.float()), 1)[\n",
    "                conf.view(-1) > conf_thres]\n",
    "\n",
    "        # Filter by class\n",
    "        if classes is not None:\n",
    "            x = x[(x[:, 5:6] == torch.tensor(classes, device=x.device)).any(1)]\n",
    "\n",
    "        # Apply finite constraint\n",
    "        # if not torch.isfinite(x).all():\n",
    "        #     x = x[torch.isfinite(x).all(1)]\n",
    "\n",
    "        # Check shape\n",
    "        n = x.shape[0]  # number of boxes\n",
    "        if not n:  # no boxes\n",
    "            continue\n",
    "        elif n > max_nms:  # excess boxes\n",
    "            # sort by confidence\n",
    "            x = x[x[:, 4].argsort(descending=True)[:max_nms]]\n",
    "\n",
    "        # Batched NMS\n",
    "        c = x[:, 5:6] * (0 if agnostic else max_wh)  # classes\n",
    "        # boxes (offset by class), scores\n",
    "        boxes, scores = x[:, :4] + c, x[:, 4]\n",
    "        i = torchvision.ops.nms(boxes, scores, iou_thres)  # NMS\n",
    "        if i.shape[0] > max_det:  # limit detections\n",
    "            i = i[:max_det]\n",
    "        if merge and (1 < n < 3E3):  # Merge NMS (boxes merged using weighted mean)\n",
    "            # update boxes as boxes(i,4) = weights(i,n) * boxes(n,4)\n",
    "            iou = torchvision.box_iou(\n",
    "                boxes[i], boxes) > iou_thres  # iou matrix\n",
    "            weights = iou * scores[None]  # box weights\n",
    "            x[i, :4] = torch.mm(weights, x[:, :4]).float(\n",
    "            ) / weights.sum(1, keepdim=True)  # merged boxes\n",
    "            if redundant:\n",
    "                i = i[iou.sum(1) > 1]  # require redundancy\n",
    "\n",
    "        output[xi] = x[i]\n",
    "\n",
    "    return output\n",
    "\n",
    "\n",
    "def xywh2xyxy(x):\n",
    "    # Convert nx4 boxes from [x, y, w, h] to [x1, y1, x2, y2] where xy1=top-left, xy2=bottom-right\n",
    "    y = x.clone() if isinstance(x, torch.Tensor) else np.copy(x)\n",
    "    y[:, 0] = x[:, 0] - x[:, 2] / 2  # top left x\n",
    "    y[:, 1] = x[:, 1] - x[:, 3] / 2  # top left y\n",
    "    y[:, 2] = x[:, 0] + x[:, 2] / 2  # bottom right x\n",
    "    y[:, 3] = x[:, 1] + x[:, 3] / 2  # bottom right y\n",
    "    return y\n",
    "\n",
    "def letterbox(im, new_shape=(640, 640), color=(114, 114, 114), auto=True, scaleFill=False, scaleup=True, stride=32):\n",
    "    # Resize and pad image while meeting stride-multiple constraints\n",
    "    shape = im.shape[:2]  # current shape [height, width]\n",
    "    if isinstance(new_shape, int):\n",
    "        new_shape = (new_shape, new_shape)\n",
    "\n",
    "    # Scale ratio (new / old)\n",
    "    r = min(new_shape[0] / shape[0], new_shape[1] / shape[1])\n",
    "    if not scaleup:  # only scale down, do not scale up (for better val mAP)\n",
    "        r = min(r, 1.0)\n",
    "    # Compute padding\n",
    "    ratio = r, r  # width, height ratios\n",
    "    new_unpad = int(round(shape[1] * r)), int(round(shape[0] * r))\n",
    "    dw, dh = new_shape[1] - new_unpad[0], new_shape[0] - new_unpad[1]  # wh padding\n",
    "    if auto:  # minimum rectangle\n",
    "        dw, dh = np.mod(dw, stride), np.mod(dh, stride)  # wh padding\n",
    "    elif scaleFill:  # stretch\n",
    "        dw, dh = 0.0, 0.0\n",
    "        new_unpad = (new_shape[1], new_shape[0])\n",
    "        ratio = new_shape[1] / shape[1], new_shape[0] / shape[0]  # width, height ratios\n",
    "\n",
    "    dw /= 2  # divide padding into 2 sides\n",
    "    dh /= 2\n",
    "    if shape[::-1] != new_unpad:  # resize\n",
    "        im = cv2.resize(im, new_unpad, interpolation=cv2.INTER_LINEAR)\n",
    "    top, bottom = int(round(dh - 0.1)), int(round(dh + 0.1))\n",
    "    left, right = int(round(dw - 0.1)), int(round(dw + 0.1))\n",
    "    im = cv2.copyMakeBorder(im, top, bottom, left, right, cv2.BORDER_CONSTANT, value=color)  # add border\n",
    "    return im, ratio, (dw, dh)\n",
    "\n",
    "def open_image(input_file):\n",
    "    \"\"\"\n",
    "    Opens an image in binary format using PIL.Image and converts to RGB mode.\n",
    "\n",
    "    Supports local files or URLs.\n",
    "    This operation is lazy; image will not be actually loaded until the first\n",
    "    operation that needs to load it (for example, resizing), so file opening\n",
    "    errors can show up later.\n",
    "    Args:\n",
    "        input_file: str or BytesIO, either a path to an image file (anything\n",
    "            that PIL can open), or an image as a stream of bytes\n",
    "    Returns:\n",
    "        an PIL image object in RGB mode\n",
    "    \"\"\"\n",
    "    if (isinstance(input_file, str)\n",
    "            and input_file.startswith(('http://', 'https://'))):\n",
    "        try:\n",
    "            response = requests.get(input_file)\n",
    "        except Exception as e:\n",
    "            print(f'Error retrieving image {input_file}: {e}')\n",
    "            success = False\n",
    "            if e.__class__.__name__ in error_names_for_retry:\n",
    "                for i_retry in range(0,n_retries):\n",
    "                    try:\n",
    "                        time.sleep(retry_sleep_time)\n",
    "                        response = requests.get(input_file)        \n",
    "                    except Exception as e:\n",
    "                        print(f'Error retrieving image {input_file} on retry {i_retry}: {e}')\n",
    "                        continue\n",
    "                    print('Succeeded on retry {}'.format(i_retry))\n",
    "                    success = True\n",
    "                    break\n",
    "            if not success:\n",
    "                raise\n",
    "        try:\n",
    "            image = Image.open(BytesIO(response.content))\n",
    "        except Exception as e:\n",
    "            print(f'Error opening image {input_file}: {e}')\n",
    "            raise\n",
    "\n",
    "    else:\n",
    "        image = Image.open(input_file)\n",
    "    if image.mode not in ('RGBA', 'RGB', 'L', 'I;16'):\n",
    "        raise AttributeError(\n",
    "            f'Image {input_file} uses unsupported mode {image.mode}')\n",
    "    if image.mode == 'RGBA' or image.mode == 'L':\n",
    "        # PIL.Image.convert() returns a converted copy of this image\n",
    "        image = image.convert(mode='RGB')\n",
    "\n",
    "    # Alter orientation as needed according to EXIF tag 0x112 (274) for Orientation\n",
    "    #\n",
    "    # https://gist.github.com/dangtrinhnt/a577ece4cbe5364aad28\n",
    "    # https://www.media.mit.edu/pia/Research/deepview/exif.html\n",
    "    #\n",
    "    try:\n",
    "        exif = image._getexif()\n",
    "        orientation: int = exif.get(274, None)  # 274 is the key for the Orientation field\n",
    "        if orientation is not None and orientation in IMAGE_ROTATIONS:\n",
    "            image = image.rotate(IMAGE_ROTATIONS[orientation], expand=True)  # returns a rotated copy\n",
    "    except Exception:\n",
    "        pass\n",
    "\n",
    "    return image\n",
    "\n",
    "\n",
    "def load_image(input_file):\n",
    "    \"\"\"\n",
    "    Loads the image at input_file as a PIL Image into memory.\n",
    "    Image.open() used in open_image() is lazy and errors will occur downstream\n",
    "    if not explicitly loaded.\n",
    "    Args:\n",
    "        input_file: str or BytesIO, either a path to an image file (anything\n",
    "            that PIL can open), or an image as a stream of bytes\n",
    "    Returns: PIL.Image.Image, in RGB mode\n",
    "    \"\"\"\n",
    "    image = open_image(input_file)\n",
    "    image.load()\n",
    "    return image"
   ]
  },
  {
   "cell_type": "code",
   "execution_count": 3,
   "id": "c00e9842-4f5e-4825-bf04-29181baa3f22",
   "metadata": {
    "tags": []
   },
   "outputs": [],
   "source": [
    "false_negs = '../../input/md-rodent-false-negatives/'"
   ]
  },
  {
   "cell_type": "code",
   "execution_count": 4,
   "id": "28b6bd63-44a7-4289-82f6-cbb310dbeefe",
   "metadata": {
    "tags": []
   },
   "outputs": [],
   "source": [
    "from pathlib import Path\n",
    "\n",
    "fnegs_dir = Path(false_negs)"
   ]
  },
  {
   "cell_type": "code",
   "execution_count": 5,
   "id": "7ff8f54b-afa0-423a-996f-cc92f8071d08",
   "metadata": {
    "tags": []
   },
   "outputs": [],
   "source": [
    "imgs = [str(i) for i in fnegs_dir.glob(\"**/*.jpg\")]"
   ]
  },
  {
   "cell_type": "markdown",
   "id": "1b0f9e63-e7e9-465b-8c62-16e1314cc509",
   "metadata": {},
   "source": [
    "inference takes 7 seconds on macbook for model coming from yolov5 torchhub"
   ]
  },
  {
   "cell_type": "code",
   "execution_count": 6,
   "id": "3b1b39f5-f40f-410d-a597-d5000b4f6b93",
   "metadata": {
    "tags": []
   },
   "outputs": [],
   "source": [
    "im = preprocess(imgs[0])"
   ]
  },
  {
   "cell_type": "code",
   "execution_count": 7,
   "id": "2d0be80e-6283-4fdc-8a0c-e6f70b7c08c2",
   "metadata": {
    "tags": []
   },
   "outputs": [
    {
     "name": "stdout",
     "output_type": "stream",
     "text": [
      "CPU times: user 6.66 s, sys: 500 ms, total: 7.16 s\n",
      "Wall time: 7.19 s\n"
     ]
    }
   ],
   "source": [
    "%%time\n",
    "results = {}\n",
    "for pth in [imgs[0]]:\n",
    "    im = preprocess(\"./p_000061.jpg\")\n",
    "    result = weights_model.forward(im)\n",
    "    results.update({pth.split(\"/\")[-1]:postprocess(result)})"
   ]
  },
  {
   "cell_type": "code",
   "execution_count": 8,
   "id": "28c67efc-4753-4534-89ab-838aa7b1988d",
   "metadata": {
    "tags": []
   },
   "outputs": [
    {
     "data": {
      "text/plain": [
       "torch.Size([1, 3, 960, 1280])"
      ]
     },
     "execution_count": 8,
     "metadata": {},
     "output_type": "execute_result"
    }
   ],
   "source": [
    "im.shape"
   ]
  },
  {
   "cell_type": "code",
   "execution_count": 7,
   "id": "e6dda306-4818-488b-86ee-a3c9cb9015e7",
   "metadata": {},
   "outputs": [],
   "source": [
    "top_results = {}\n",
    "for k,v in results.items():\n",
    "    top_results.update({k: v[0][0]})"
   ]
  },
  {
   "cell_type": "code",
   "execution_count": 8,
   "id": "4610eda8-bc71-465a-8aa4-7b28f89b545e",
   "metadata": {},
   "outputs": [
    {
     "data": {
      "text/plain": [
       "{'40684101_a2514f39ba853391e5248ab18f36945e.jpg': {'x1': 0.7503055334091187,\n",
       "  'y1': 0.16845665872097015,\n",
       "  'x2': 0.7948465943336487,\n",
       "  'y2': 0.2560744881629944,\n",
       "  'confidence': 0.9220731258392334,\n",
       "  'class': 1}}"
      ]
     },
     "execution_count": 8,
     "metadata": {},
     "output_type": "execute_result"
    }
   ],
   "source": [
    "top_results"
   ]
  },
  {
   "cell_type": "code",
   "execution_count": 9,
   "id": "e975873f-610f-44f1-aebd-900029502242",
   "metadata": {},
   "outputs": [],
   "source": [
    "import httpx\n",
    "import time\n",
    "url = \"http://127.0.0.1:8080/predictions/mdv5\"\n",
    "headers = {\n",
    "    \"Content-Type\": \"application/octet-stream\",\n",
    "}\n",
    "\n",
    "ts_top_results = {}\n",
    "for pth in [imgs[0]]:\n",
    "\n",
    "    with open(pth, \"rb\") as f:\n",
    "        image_data = f.read()\n",
    "    # time.sleep(5)\n",
    "    response = httpx.post(url, data=image_data, headers=headers)\n",
    "\n",
    "    if response.status_code == 200:\n",
    "        # do something with the response\n",
    "        ts_top_results.update({pth.split(\"/\")[-1]:response.json()[0]})"
   ]
  },
  {
   "cell_type": "code",
   "execution_count": 10,
   "id": "c6e60e0c-d259-43ab-a295-f31f668e4477",
   "metadata": {},
   "outputs": [
    {
     "data": {
      "text/plain": [
       "{'40684101_a2514f39ba853391e5248ab18f36945e.jpg': {'x1': 0.7503049373626709,\n",
       "  'y1': 0.16845974326133728,\n",
       "  'x2': 0.7948346734046936,\n",
       "  'y2': 0.2560817301273346,\n",
       "  'confidence': 0.9216667413711548,\n",
       "  'class': 1}}"
      ]
     },
     "execution_count": 10,
     "metadata": {},
     "output_type": "execute_result"
    }
   ],
   "source": [
    "ts_top_results"
   ]
  },
  {
   "cell_type": "markdown",
   "id": "293bab57-259b-4613-b11a-e5c52e40a8ae",
   "metadata": {},
   "source": [
    "# debug"
   ]
  },
  {
   "cell_type": "code",
   "execution_count": 11,
   "id": "c1a2dd25-be14-43ea-9e9a-46c113fc0e64",
   "metadata": {},
   "outputs": [],
   "source": [
    "%matplotlib inline\n",
    "import matplotlib.pyplot as plt\n",
    "ts = torch.load(\"test.arr\")\n",
    "\n",
    "diff = ts - im"
   ]
  },
  {
   "cell_type": "code",
   "execution_count": 13,
   "id": "40acec68-ad45-4176-800a-1a51963ad21a",
   "metadata": {
    "collapsed": true,
    "jupyter": {
     "outputs_hidden": true
    },
    "tags": []
   },
   "outputs": [
    {
     "data": {
      "text/plain": [
       "tensor([[[[0.44706, 0.44706, 0.44706,  ..., 0.44706, 0.44706, 0.44706],\n",
       "          [0.44706, 0.44706, 0.44706,  ..., 0.44706, 0.44706, 0.44706],\n",
       "          [0.44706, 0.44706, 0.44706,  ..., 0.44706, 0.44706, 0.44706],\n",
       "          ...,\n",
       "          [0.44706, 0.44706, 0.44706,  ..., 0.44706, 0.44706, 0.44706],\n",
       "          [0.44706, 0.44706, 0.44706,  ..., 0.44706, 0.44706, 0.44706],\n",
       "          [0.44706, 0.44706, 0.44706,  ..., 0.44706, 0.44706, 0.44706]],\n",
       "\n",
       "         [[0.44706, 0.44706, 0.44706,  ..., 0.44706, 0.44706, 0.44706],\n",
       "          [0.44706, 0.44706, 0.44706,  ..., 0.44706, 0.44706, 0.44706],\n",
       "          [0.44706, 0.44706, 0.44706,  ..., 0.44706, 0.44706, 0.44706],\n",
       "          ...,\n",
       "          [0.44706, 0.44706, 0.44706,  ..., 0.44706, 0.44706, 0.44706],\n",
       "          [0.44706, 0.44706, 0.44706,  ..., 0.44706, 0.44706, 0.44706],\n",
       "          [0.44706, 0.44706, 0.44706,  ..., 0.44706, 0.44706, 0.44706]],\n",
       "\n",
       "         [[0.44706, 0.44706, 0.44706,  ..., 0.44706, 0.44706, 0.44706],\n",
       "          [0.44706, 0.44706, 0.44706,  ..., 0.44706, 0.44706, 0.44706],\n",
       "          [0.44706, 0.44706, 0.44706,  ..., 0.44706, 0.44706, 0.44706],\n",
       "          ...,\n",
       "          [0.44706, 0.44706, 0.44706,  ..., 0.44706, 0.44706, 0.44706],\n",
       "          [0.44706, 0.44706, 0.44706,  ..., 0.44706, 0.44706, 0.44706],\n",
       "          [0.44706, 0.44706, 0.44706,  ..., 0.44706, 0.44706, 0.44706]]]])"
      ]
     },
     "execution_count": 13,
     "metadata": {},
     "output_type": "execute_result"
    }
   ],
   "source": [
    "ts"
   ]
  },
  {
   "cell_type": "code",
   "execution_count": 18,
   "id": "0d40c37e-7b0f-43b7-8333-028b3f4cafbe",
   "metadata": {
    "collapsed": true,
    "jupyter": {
     "outputs_hidden": true
    },
    "tags": []
   },
   "outputs": [
    {
     "data": {
      "text/plain": [
       "tensor([[[[0., 0., 0.,  ..., 0., 0., 0.],\n",
       "          [0., 0., 0.,  ..., 0., 0., 0.],\n",
       "          [0., 0., 0.,  ..., 0., 0., 0.],\n",
       "          ...,\n",
       "          [0., 0., 0.,  ..., 0., 0., 0.],\n",
       "          [0., 0., 0.,  ..., 0., 0., 0.],\n",
       "          [0., 0., 0.,  ..., 0., 0., 0.]],\n",
       "\n",
       "         [[0., 0., 0.,  ..., 0., 0., 0.],\n",
       "          [0., 0., 0.,  ..., 0., 0., 0.],\n",
       "          [0., 0., 0.,  ..., 0., 0., 0.],\n",
       "          ...,\n",
       "          [0., 0., 0.,  ..., 0., 0., 0.],\n",
       "          [0., 0., 0.,  ..., 0., 0., 0.],\n",
       "          [0., 0., 0.,  ..., 0., 0., 0.]],\n",
       "\n",
       "         [[0., 0., 0.,  ..., 0., 0., 0.],\n",
       "          [0., 0., 0.,  ..., 0., 0., 0.],\n",
       "          [0., 0., 0.,  ..., 0., 0., 0.],\n",
       "          ...,\n",
       "          [0., 0., 0.,  ..., 0., 0., 0.],\n",
       "          [0., 0., 0.,  ..., 0., 0., 0.],\n",
       "          [0., 0., 0.,  ..., 0., 0., 0.]]]])"
      ]
     },
     "execution_count": 18,
     "metadata": {},
     "output_type": "execute_result"
    }
   ],
   "source": [
    "diff"
   ]
  },
  {
   "cell_type": "code",
   "execution_count": 15,
   "id": "88aef737-2950-4262-ae4c-d891ce02992e",
   "metadata": {},
   "outputs": [
    {
     "name": "stderr",
     "output_type": "stream",
     "text": [
      "Clipping input data to the valid range for imshow with RGB data ([0..1] for floats or [0..255] for integers).\n",
      "Clipping input data to the valid range for imshow with RGB data ([0..1] for floats or [0..255] for integers).\n"
     ]
    },
    {
     "data": {
      "text/plain": [
       "<matplotlib.image.AxesImage at 0x7f8b0be483a0>"
      ]
     },
     "execution_count": 15,
     "metadata": {},
     "output_type": "execute_result"
    },
    {
     "data": {
      "image/png": "[encoded data removed]",
      "text/plain": [
       "<Figure size 640x480 with 1 Axes>"
      ]
     },
     "metadata": {},
     "output_type": "display_data"
    },
    {
     "data": {
      "image/png": "[encoded data removed]",
      "text/plain": [
       "<Figure size 640x480 with 1 Axes>"
      ]
     },
     "metadata": {},
     "output_type": "display_data"
    },
    {
     "data": {
      "image/png": "[encoded data removed]",
      "text/plain": [
       "<Figure size 640x480 with 1 Axes>"
      ]
     },
     "metadata": {},
     "output_type": "display_data"
    }
   ],
   "source": [
    "(diff > 0).sum() / (ts.shape[-1] * ts.shape[-2])\n",
    "\n",
    "(diff < 0).sum() / (ts.shape[-1] * ts.shape[-2])\n",
    "\n",
    "ts.shape[-1] * ts.shape[-2]\n",
    "diff = np.moveaxis(diff.numpy()[0], 0, -1)\n",
    "plt.figure()\n",
    "plt.imshow(diff)\n",
    "\n",
    "diff[diff>0] = 1\n",
    "\n",
    "diff[diff<0] = -1\n",
    "plt.figure()\n",
    "plt.imshow(diff)\n",
    "plt.figure()\n",
    "plt.title(\"pixel locations of absolute difference in input to model for Torchserve vs Truth\")\n",
    "\n",
    "plt.imshow( np.moveaxis(im[0].numpy(), 0, -1))"
   ]
  },
  {
   "cell_type": "code",
   "execution_count": null,
   "id": "77656f6a-acf4-4508-98fe-1a0e753d7e3e",
   "metadata": {},
   "outputs": [],
   "source": []
  },
  {
   "cell_type": "code",
   "execution_count": 47,
   "id": "0b4c0ccf-6688-48de-956b-b07e6c3be68f",
   "metadata": {},
   "outputs": [],
   "source": [
    "ts = np.load(\"test-before-letterbox.arr.npy\")\n",
    "im = load_image(pth)\n",
    "im = np.asarray(im)\n",
    "diff = ts - im"
   ]
  },
  {
   "cell_type": "code",
   "execution_count": 55,
   "id": "d0a2a8cc-f62a-4cf7-aa05-107c00473b02",
   "metadata": {},
   "outputs": [
    {
     "data": {
      "text/plain": [
       "0.0336212158203125"
      ]
     },
     "execution_count": 55,
     "metadata": {},
     "output_type": "execute_result"
    }
   ],
   "source": [
    "(diff > 0).sum() / (ts.shape[0] * ts.shape[1])"
   ]
  },
  {
   "cell_type": "code",
   "execution_count": 49,
   "id": "e7bd910e-2ffc-4937-8e50-d9ebdc95788f",
   "metadata": {},
   "outputs": [
    {
     "data": {
      "text/plain": [
       "0.0"
      ]
     },
     "execution_count": 49,
     "metadata": {},
     "output_type": "execute_result"
    }
   ],
   "source": [
    "(diff < 0).sum() / (ts.shape[-1] * ts.shape[-2])"
   ]
  },
  {
   "cell_type": "code",
   "execution_count": 64,
   "id": "09563477-8bff-41e2-8f68-80e1fe0ab1f0",
   "metadata": {},
   "outputs": [],
   "source": [
    "with open(pth, 'rb') as f:\n",
    "    image_data = f.read()\n",
    "image_bytearray = bytearray(image_data)"
   ]
  },
  {
   "cell_type": "code",
   "execution_count": 67,
   "id": "a73752ec-efd5-4304-8dae-563a32328acb",
   "metadata": {},
   "outputs": [],
   "source": [
    "image_from_bytearray = load_image(io.BytesIO(image_bytearray))"
   ]
  },
  {
   "cell_type": "code",
   "execution_count": 68,
   "id": "fe96a67d-a955-464b-b91e-9aa0aeea3a35",
   "metadata": {},
   "outputs": [],
   "source": [
    "image_from_pth = load_image(pth)"
   ]
  },
  {
   "cell_type": "code",
   "execution_count": 71,
   "id": "cb8fe1fa-afe2-4f5f-ab01-f9b48daec391",
   "metadata": {},
   "outputs": [
    {
     "data": {
      "text/plain": [
       "True"
      ]
     },
     "execution_count": 71,
     "metadata": {},
     "output_type": "execute_result"
    }
   ],
   "source": [
    "(np.asarray(image_from_bytearray) == np.asarray(image_from_pth)).all()"
   ]
  },
  {
   "cell_type": "code",
   "execution_count": 19,
   "id": "3124fe53-38b5-4e85-9862-81e748dacf1f",
   "metadata": {},
   "outputs": [
    {
     "data": {
      "text/plain": [
       "'../../input/md-rodent-false-negatives/864839046686982/40684101_a2514f39ba853391e5248ab18f36945e.jpg'"
      ]
     },
     "execution_count": 19,
     "metadata": {},
     "output_type": "execute_result"
    }
   ],
   "source": [
    "pth"
   ]
  },
  {
   "cell_type": "code",
   "execution_count": null,
   "id": "90e96b20-7863-4c60-a524-0ff24e4a0a08",
   "metadata": {},
   "outputs": [],
   "source": []
  },
  {
   "cell_type": "code",
   "execution_count": 50,
   "id": "0bfc2cb2-c7e3-41f1-99dd-c5033ac18502",
   "metadata": {},
   "outputs": [
    {
     "name": "stdout",
     "output_type": "stream",
     "text": [
      "new shape:  (1280, 1280)\n"
     ]
    }
   ],
   "source": [
    "ts = np.load(\"test-after-letterbox.arr.npy\")\n",
    "im = load_image(pth)\n",
    "im = np.asarray(im)\n",
    "im = letterbox(im, new_shape=img_size,\n",
    "            stride=64, auto=True)[0]\n",
    "diff = ts - im"
   ]
  },
  {
   "cell_type": "code",
   "execution_count": 53,
   "id": "ac813a15-ac04-4088-89c9-730a308f6f8a",
   "metadata": {},
   "outputs": [
    {
     "data": {
      "text/plain": [
       "0.0336212158203125"
      ]
     },
     "execution_count": 53,
     "metadata": {},
     "output_type": "execute_result"
    }
   ],
   "source": [
    "(diff > 0).sum() / (ts.shape[0] * ts.shape[1])"
   ]
  },
  {
   "cell_type": "code",
   "execution_count": 54,
   "id": "75bad2a9-f4a2-418c-bfde-58485a773d76",
   "metadata": {},
   "outputs": [
    {
     "data": {
      "text/plain": [
       "0.0"
      ]
     },
     "execution_count": 54,
     "metadata": {},
     "output_type": "execute_result"
    }
   ],
   "source": [
    "(diff < 0).sum() / (ts.shape[0] * ts.shape[1])"
   ]
  },
  {
   "cell_type": "code",
   "execution_count": 44,
   "id": "84228cf4-330b-41b6-8f6f-82c8027dc05e",
   "metadata": {},
   "outputs": [
    {
     "data": {
      "text/plain": [
       "(768, 1280, 3)"
      ]
     },
     "execution_count": 44,
     "metadata": {},
     "output_type": "execute_result"
    }
   ],
   "source": [
    "ts.shape"
   ]
  },
  {
   "cell_type": "code",
   "execution_count": 46,
   "id": "63423022-709d-447e-94f6-3c3bc5e161f0",
   "metadata": {},
   "outputs": [
    {
     "data": {
      "text/plain": [
       "<matplotlib.image.AxesImage at 0x7f8b0bc933d0>"
      ]
     },
     "execution_count": 46,
     "metadata": {},
     "output_type": "execute_result"
    },
    {
     "data": {
      "image/png": "[encoded data removed]",
      "text/plain": [
       "<Figure size 640x480 with 1 Axes>"
      ]
     },
     "metadata": {},
     "output_type": "display_data"
    }
   ],
   "source": [
    "%matplotlib inline\n",
    "import matplotlib.pyplot as plt\n",
    "plt.imshow(diff)"
   ]
  },
  {
   "cell_type": "code",
   "execution_count": 16,
   "id": "ab9aae87-afe8-4b6e-a8c4-490707ca2489",
   "metadata": {},
   "outputs": [
    {
     "name": "stdout",
     "output_type": "stream",
     "text": [
      "new shape:  (1280, 1280)\n"
     ]
    },
    {
     "data": {
      "text/plain": [
       "<matplotlib.image.AxesImage at 0x7f8b0bda09a0>"
      ]
     },
     "execution_count": 16,
     "metadata": {},
     "output_type": "execute_result"
    },
    {
     "data": {
      "image/png": "[encoded data removed]",
      "text/plain": [
       "<Figure size 640x480 with 1 Axes>"
      ]
     },
     "metadata": {},
     "output_type": "display_data"
    }
   ],
   "source": [
    "diff[diff>0] = 1\n",
    "\n",
    "diff[diff<0] = -1\n",
    "\n",
    "plt.imshow(diff)\n",
    "plt.title(\"pixel locations of absolute difference in input to model for Torchserve vs Truth\")\n",
    "\n",
    "plt.imshow( np.moveaxis(im[0], 0, -1))"
   ]
  },
  {
   "cell_type": "code",
   "execution_count": 17,
   "id": "30e2e7aa-4cc7-4bff-b58f-8ede40b63b08",
   "metadata": {},
   "outputs": [],
   "source": [
    "import pandas as pd"
   ]
  },
  {
   "cell_type": "code",
   "execution_count": 18,
   "id": "dbf3582f-6e78-41e6-bbe5-2affa44b896a",
   "metadata": {},
   "outputs": [],
   "source": [
    "nb_df = pd.DataFrame.from_dict(top_results, orient=\"index\")"
   ]
  },
  {
   "cell_type": "code",
   "execution_count": 19,
   "id": "4f0e5e11-f395-4756-8678-2dacbc6dd080",
   "metadata": {},
   "outputs": [],
   "source": [
    "ts_df = pd.DataFrame.from_dict(ts_top_results, orient=\"index\")"
   ]
  },
  {
   "cell_type": "code",
   "execution_count": 20,
   "id": "3e174876-9d41-4ce4-8fdb-df1e8f62e8f9",
   "metadata": {},
   "outputs": [],
   "source": [
    "df = ts_df-nb_df\n"
   ]
  },
  {
   "cell_type": "code",
   "execution_count": 21,
   "id": "bb07b02a-5b79-4159-89d7-3e45fe404edf",
   "metadata": {},
   "outputs": [
    {
     "data": {
      "text/plain": [
       "0.0014921664651442118"
      ]
     },
     "execution_count": 21,
     "metadata": {},
     "output_type": "execute_result"
    }
   ],
   "source": [
    "df.x1.mean()"
   ]
  },
  {
   "cell_type": "code",
   "execution_count": 22,
   "id": "4cc5ad58-e823-4083-b548-dc804a070d73",
   "metadata": {},
   "outputs": [
    {
     "data": {
      "text/plain": [
       "0.0057574690733518865"
      ]
     },
     "execution_count": 22,
     "metadata": {},
     "output_type": "execute_result"
    }
   ],
   "source": [
    "df.x2.mean()"
   ]
  },
  {
   "cell_type": "code",
   "execution_count": 23,
   "id": "9e6e8667-60f8-4ba6-b963-6131826d6112",
   "metadata": {},
   "outputs": [
    {
     "data": {
      "text/plain": [
       "-0.0006876427062808135"
      ]
     },
     "execution_count": 23,
     "metadata": {},
     "output_type": "execute_result"
    }
   ],
   "source": [
    "df.y1.mean()"
   ]
  },
  {
   "cell_type": "code",
   "execution_count": 24,
   "id": "4adfe758-18c5-4493-9fba-9bdad659055a",
   "metadata": {},
   "outputs": [
    {
     "data": {
      "text/plain": [
       "0.0010720756525794664"
      ]
     },
     "execution_count": 24,
     "metadata": {},
     "output_type": "execute_result"
    }
   ],
   "source": [
    "df.y2.mean()"
   ]
  },
  {
   "cell_type": "code",
   "execution_count": 31,
   "id": "33f5e64f-6613-4406-940d-73adc6305a85",
   "metadata": {},
   "outputs": [
    {
     "data": {
      "text/plain": [
       "<AxesSubplot: ylabel='Frequency'>"
      ]
     },
     "execution_count": 31,
     "metadata": {},
     "output_type": "execute_result"
    },
    {
     "data": {
      "image/png": "[encoded data removed]",
      "text/plain": [
       "<Figure size 640x480 with 1 Axes>"
      ]
     },
     "metadata": {},
     "output_type": "display_data"
    }
   ],
   "source": [
    "%matplotlib inline\n",
    "df.confidence.plot.hist(bins=50)\n"
   ]
  },
  {
   "cell_type": "code",
   "execution_count": 27,
   "id": "c205ffd5-83e5-49a2-8a4d-4847ceeb6033",
   "metadata": {},
   "outputs": [
    {
     "data": {
      "text/html": [
       "<div>\n",
       "<style scoped>\n",
       "    .dataframe tbody tr th:only-of-type {\n",
       "        vertical-align: middle;\n",
       "    }\n",
       "\n",
       "    .dataframe tbody tr th {\n",
       "        vertical-align: top;\n",
       "    }\n",
       "\n",
       "    .dataframe thead th {\n",
       "        text-align: right;\n",
       "    }\n",
       "</style>\n",
       "<table border=\"1\" class=\"dataframe\">\n",
       "  <thead>\n",
       "    <tr style=\"text-align: right;\">\n",
       "      <th></th>\n",
       "      <th>x1</th>\n",
       "      <th>y1</th>\n",
       "      <th>x2</th>\n",
       "      <th>y2</th>\n",
       "      <th>confidence</th>\n",
       "      <th>class</th>\n",
       "    </tr>\n",
       "  </thead>\n",
       "  <tbody>\n",
       "    <tr>\n",
       "      <th>40684101_a2514f39ba853391e5248ab18f36945e.jpg</th>\n",
       "      <td>0.750305</td>\n",
       "      <td>0.168460</td>\n",
       "      <td>0.794835</td>\n",
       "      <td>0.256082</td>\n",
       "      <td>0.921667</td>\n",
       "      <td>1</td>\n",
       "    </tr>\n",
       "    <tr>\n",
       "      <th>40770611_377da70ea6314b41640ed9e8b205a8bc.jpg</th>\n",
       "      <td>0.798404</td>\n",
       "      <td>0.200193</td>\n",
       "      <td>0.840102</td>\n",
       "      <td>0.256177</td>\n",
       "      <td>0.833622</td>\n",
       "      <td>1</td>\n",
       "    </tr>\n",
       "    <tr>\n",
       "      <th>41692563_936638af3dc4ca9aa5068142f69b2191.jpg</th>\n",
       "      <td>0.720993</td>\n",
       "      <td>0.132055</td>\n",
       "      <td>0.759372</td>\n",
       "      <td>0.235906</td>\n",
       "      <td>0.866831</td>\n",
       "      <td>1</td>\n",
       "    </tr>\n",
       "    <tr>\n",
       "      <th>41714241_34cf842e15b2a7a67cca5f0c6cc87d83.jpg</th>\n",
       "      <td>0.710044</td>\n",
       "      <td>0.137869</td>\n",
       "      <td>0.767480</td>\n",
       "      <td>0.242717</td>\n",
       "      <td>0.919222</td>\n",
       "      <td>1</td>\n",
       "    </tr>\n",
       "    <tr>\n",
       "      <th>41692583_89a961fc5c3ab4df39c89b4de40b2ef5.jpg</th>\n",
       "      <td>0.720560</td>\n",
       "      <td>0.135742</td>\n",
       "      <td>0.758882</td>\n",
       "      <td>0.235380</td>\n",
       "      <td>0.857673</td>\n",
       "      <td>1</td>\n",
       "    </tr>\n",
       "    <tr>\n",
       "      <th>...</th>\n",
       "      <td>...</td>\n",
       "      <td>...</td>\n",
       "      <td>...</td>\n",
       "      <td>...</td>\n",
       "      <td>...</td>\n",
       "      <td>...</td>\n",
       "    </tr>\n",
       "    <tr>\n",
       "      <th>p_008645_704203c9623121c81d05700b0dc1a508.jpg</th>\n",
       "      <td>0.405831</td>\n",
       "      <td>0.406266</td>\n",
       "      <td>0.445970</td>\n",
       "      <td>0.511395</td>\n",
       "      <td>0.893926</td>\n",
       "      <td>1</td>\n",
       "    </tr>\n",
       "    <tr>\n",
       "      <th>p_008813_a647da3b39845471d5a0d3e4d588bcdc.jpg</th>\n",
       "      <td>0.344295</td>\n",
       "      <td>0.609546</td>\n",
       "      <td>0.437813</td>\n",
       "      <td>0.667865</td>\n",
       "      <td>0.001469</td>\n",
       "      <td>1</td>\n",
       "    </tr>\n",
       "    <tr>\n",
       "      <th>p_008828_0ec11fd8bf0fce589b7f25fc6584484e.jpg</th>\n",
       "      <td>0.280063</td>\n",
       "      <td>0.360733</td>\n",
       "      <td>0.374481</td>\n",
       "      <td>0.401561</td>\n",
       "      <td>0.853362</td>\n",
       "      <td>1</td>\n",
       "    </tr>\n",
       "    <tr>\n",
       "      <th>p_008560_0bb1291e74636ce14442ff478f390c0e.jpg</th>\n",
       "      <td>0.196991</td>\n",
       "      <td>0.093173</td>\n",
       "      <td>0.240565</td>\n",
       "      <td>0.190443</td>\n",
       "      <td>0.590756</td>\n",
       "      <td>1</td>\n",
       "    </tr>\n",
       "    <tr>\n",
       "      <th>p_008812_5f2623abe3da1c97aafc2a4821b88b6c.jpg</th>\n",
       "      <td>0.270873</td>\n",
       "      <td>0.297195</td>\n",
       "      <td>0.316207</td>\n",
       "      <td>0.383845</td>\n",
       "      <td>0.747365</td>\n",
       "      <td>1</td>\n",
       "    </tr>\n",
       "  </tbody>\n",
       "</table>\n",
       "<p>180 rows × 6 columns</p>\n",
       "</div>"
      ],
      "text/plain": [
       "                                                     x1        y1        x2  \\\n",
       "40684101_a2514f39ba853391e5248ab18f36945e.jpg  0.750305  0.168460  0.794835   \n",
       "40770611_377da70ea6314b41640ed9e8b205a8bc.jpg  0.798404  0.200193  0.840102   \n",
       "41692563_936638af3dc4ca9aa5068142f69b2191.jpg  0.720993  0.132055  0.759372   \n",
       "41714241_34cf842e15b2a7a67cca5f0c6cc87d83.jpg  0.710044  0.137869  0.767480   \n",
       "41692583_89a961fc5c3ab4df39c89b4de40b2ef5.jpg  0.720560  0.135742  0.758882   \n",
       "...                                                 ...       ...       ...   \n",
       "p_008645_704203c9623121c81d05700b0dc1a508.jpg  0.405831  0.406266  0.445970   \n",
       "p_008813_a647da3b39845471d5a0d3e4d588bcdc.jpg  0.344295  0.609546  0.437813   \n",
       "p_008828_0ec11fd8bf0fce589b7f25fc6584484e.jpg  0.280063  0.360733  0.374481   \n",
       "p_008560_0bb1291e74636ce14442ff478f390c0e.jpg  0.196991  0.093173  0.240565   \n",
       "p_008812_5f2623abe3da1c97aafc2a4821b88b6c.jpg  0.270873  0.297195  0.316207   \n",
       "\n",
       "                                                     y2  confidence  class  \n",
       "40684101_a2514f39ba853391e5248ab18f36945e.jpg  0.256082    0.921667      1  \n",
       "40770611_377da70ea6314b41640ed9e8b205a8bc.jpg  0.256177    0.833622      1  \n",
       "41692563_936638af3dc4ca9aa5068142f69b2191.jpg  0.235906    0.866831      1  \n",
       "41714241_34cf842e15b2a7a67cca5f0c6cc87d83.jpg  0.242717    0.919222      1  \n",
       "41692583_89a961fc5c3ab4df39c89b4de40b2ef5.jpg  0.235380    0.857673      1  \n",
       "...                                                 ...         ...    ...  \n",
       "p_008645_704203c9623121c81d05700b0dc1a508.jpg  0.511395    0.893926      1  \n",
       "p_008813_a647da3b39845471d5a0d3e4d588bcdc.jpg  0.667865    0.001469      1  \n",
       "p_008828_0ec11fd8bf0fce589b7f25fc6584484e.jpg  0.401561    0.853362      1  \n",
       "p_008560_0bb1291e74636ce14442ff478f390c0e.jpg  0.190443    0.590756      1  \n",
       "p_008812_5f2623abe3da1c97aafc2a4821b88b6c.jpg  0.383845    0.747365      1  \n",
       "\n",
       "[180 rows x 6 columns]"
      ]
     },
     "execution_count": 27,
     "metadata": {},
     "output_type": "execute_result"
    }
   ],
   "source": [
    "ts_df"
   ]
  },
  {
   "cell_type": "code",
   "execution_count": null,
   "id": "65066a58-4af1-402b-bbe1-bcd6cc50ea64",
   "metadata": {},
   "outputs": [],
   "source": []
  }
 ],
 "metadata": {
  "kernelspec": {
   "display_name": "Python [conda env:mdv5a]",
   "language": "python",
   "name": "conda-env-mdv5a-py"
  },
  "language_info": {
   "codemirror_mode": {
    "name": "ipython",
    "version": 3
   },
   "file_extension": ".py",
   "mimetype": "text/x-python",
   "name": "python",
   "nbconvert_exporter": "python",
   "pygments_lexer": "ipython3",
   "version": "3.9.16"
  }
 },
 "nbformat": 4,
 "nbformat_minor": 5
}
