{
 "cells": [
  {
   "attachments": {},
   "cell_type": "markdown",
   "metadata": {},
   "source": [
    "## Loading deepfaune-ne weights into PyTorch and compiling to Torchscript\n",
    "\n",
    "Things to note: \n",
    "- the model was trained on a GPU so we need to load weights and re-compile to CPU\n",
    "- it's important to check what version of torchvision (if used here) and torch you're running in this notebook environment & be sure they match the versions pinned in the deployment container's Dockerfile\n",
    "- it's important to know which architecture/model backbone was used in training (in deepfaune-ne's case it was [dinov2](https://github.com/facebookresearch/dinov2)) and the size of the inputs (182x182)."
   ]
  },
  {
   "cell_type": "code",
   "execution_count": 1,
   "metadata": {},
   "outputs": [
    {
     "name": "stderr",
     "output_type": "stream",
     "text": [
      "/opt/homebrew/Caskroom/miniforge/base/envs/deepfaune-ne/lib/python3.9/site-packages/tqdm/auto.py:21: TqdmWarning: IProgress not found. Please update jupyter and ipywidgets. See https://ipywidgets.readthedocs.io/en/stable/user_install.html\n",
      "  from .autonotebook import tqdm as notebook_tqdm\n"
     ]
    },
    {
     "data": {
      "text/plain": [
       "'2.6.0'"
      ]
     },
     "execution_count": 1,
     "metadata": {},
     "output_type": "execute_result"
    }
   ],
   "source": [
    "import torch\n",
    "# from torchvision.models import efficientnet\n",
    "import timm\n",
    "\n",
    "torch.__version__"
   ]
  },
  {
   "cell_type": "code",
   "execution_count": 10,
   "metadata": {},
   "outputs": [],
   "source": [
    "# Modified from https://code.usgs.gov/vtcfwru/deepfaune-new-england/-/blob/main/scripts/dfne_model.py\n",
    "# import os\n",
    "# import pandas as pd\n",
    "# # import onnxruntime\n",
    "# from pathlib import Path\n",
    "# from time import time\n",
    "# import glob\n",
    "# import torch.nn as nn\n",
    "\n",
    "CLASSES = {\n",
    "    0: \"American Marten\",\n",
    "    1: \"Bird sp.\",\n",
    "    2: \"Black Bear\",\n",
    "    3: \"Bobcat\",\n",
    "    4: \"Coyote\",\n",
    "    5: \"Domestic Cat\",\n",
    "    6: \"Domestic Cow\",\n",
    "    7: \"Domestic Dog\",\n",
    "    8: \"Fisher\",\n",
    "    9: \"Gray Fox\",\n",
    "    10: \"Gray Squirrel\",\n",
    "    11: \"Human\",\n",
    "    12: \"Moose\",\n",
    "    13: \"Mouse sp.\",\n",
    "    14: \"Opossum\",\n",
    "    15: \"Raccoon\",\n",
    "    16: \"Red Fox\",\n",
    "    17: \"Red Squirrel\",\n",
    "    18: \"Skunk\",\n",
    "    19: \"Snowshoe Hare\",\n",
    "    20: \"White-tailed Deer\",\n",
    "    21: \"Wild Boar\",\n",
    "    22: \"Wild Turkey\",\n",
    "    23: \"no-species\"\n",
    "}\n",
    "\n",
    "device = torch.device(\"cuda\" if torch.cuda.is_available() else \"cpu\")\n",
    "\n",
    "def _load_model(weights = None):\n",
    "    \"\"\"\n",
    "    Load the DeepFaune NE model weights\n",
    "    \n",
    "    Args:\n",
    "        - weights (str, optional): \n",
    "            Path to the model weights. (defaults to DFNE weights)\n",
    "\n",
    "    Returns:\n",
    "        - model: model object with loaded weights\n",
    "    \"\"\"\n",
    "\n",
    "\n",
    "    if weights == None:\n",
    "        weights = \"dfne_weights_v1_0.pth\"\n",
    "\n",
    "    model_name = \"vit_large_patch14_dinov2.lvd142m\"\n",
    "\n",
    "    classes = {\n",
    "        0: \"American Marten\",\n",
    "        1: \"Bird sp.\",\n",
    "        2: \"Black Bear\",\n",
    "        3: \"Bobcat\",\n",
    "        4: \"Coyote\",\n",
    "        5: \"Domestic Cat\",\n",
    "        6: \"Domestic Cow\",\n",
    "        7: \"Domestic Dog\",\n",
    "        8: \"Fisher\",\n",
    "        9: \"Gray Fox\",\n",
    "        10: \"Gray Squirrel\",\n",
    "        11: \"Human\",\n",
    "        12: \"Moose\",\n",
    "        13: \"Mouse sp.\",\n",
    "        14: \"Opossum\",\n",
    "        15: \"Raccoon\",\n",
    "        16: \"Red Fox\",\n",
    "        17: \"Red Squirrel\",\n",
    "        18: \"Skunk\",\n",
    "        19: \"Snowshoe Hare\",\n",
    "        20: \"White-tailed Deer\",\n",
    "        21: \"Wild Boar\",\n",
    "        22: \"Wild Turkey\",\n",
    "        23: \"no-species\"\n",
    "    }\n",
    "\n",
    "    device = torch.device(\"cuda\" if torch.cuda.is_available() else \"cpu\")\n",
    "    \n",
    "    predictor = timm.create_model(\n",
    "        model_name, \n",
    "        pretrained = False, \n",
    "        num_classes = len(classes),\n",
    "        dynamic_img_size = True\n",
    "    )\n",
    "        \n",
    "    checkpoint = torch.load(\n",
    "        f = weights,\n",
    "        map_location = device,\n",
    "        weights_only = True\n",
    "    )\n",
    "    \n",
    "    predictor.load_state_dict(checkpoint['model_state_dict'])\n",
    "\n",
    "    return predictor"
   ]
  },
  {
   "cell_type": "code",
   "execution_count": 11,
   "metadata": {},
   "outputs": [],
   "source": [
    "classifier = _load_model(weights = 'model-weights/dfne_weights_v1_0.pth')"
   ]
  },
  {
   "cell_type": "code",
   "execution_count": 12,
   "metadata": {},
   "outputs": [],
   "source": [
    "# Save out the whole model for future inference deployment\n",
    "# https://pytorch.org/tutorials/beginner/saving_loading_models.html\n",
    "\n",
    "compiled_path = './model-weights/deepfaune-ne_compiled_cpu.pt'\n",
    "\n",
    "model_scripted = torch.jit.script(classifier) # Export to TorchScript\n",
    "model_scripted.save(compiled_path) # Save"
   ]
  }
 ],
 "metadata": {
  "kernelspec": {
   "display_name": "deepfaune-ne",
   "language": "python",
   "name": "python3"
  },
  "language_info": {
   "codemirror_mode": {
    "name": "ipython",
    "version": 3
   },
   "file_extension": ".py",
   "mimetype": "text/x-python",
   "name": "python",
   "nbconvert_exporter": "python",
   "pygments_lexer": "ipython3",
   "version": "3.9.19"
  },
  "orig_nbformat": 4
 },
 "nbformat": 4,
 "nbformat_minor": 2
}
